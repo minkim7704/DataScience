{
 "cells": [
  {
   "cell_type": "markdown",
   "id": "0a979d13",
   "metadata": {},
   "source": [
    "* 도미와 빙어의 길이, 무게 데이터를 각각 합친 리스트를 사용한다.\n",
    "    * 도미 [:35], 빙어 [35:]\n",
    "* **scikit learn package 이용해서 training set와 test set 분리한다.**\n",
    "* 수상한 물고기 한 마리 [25, 150]이 도미인지, 빙어인지 예측한다.\n",
    "    * **kneighbors() method 이용해서 이웃까지의 거리와 이웃 샘플의 인덱스를 반환한다.**\n",
    "    * **kneighbors() method를 통해 주어진 샘플에서 가장 가까운 이웃을 찾을 수 있다.**\n",
    "    * **x축과 y축의 범위를 동일하게 표현한다: ```plt.xlim()``` ```plt.ylim()```**\n",
    "    * **z-점수 표준화 (z-score standardization)**\n",
    "        * 두 특성의 스케일을 맞춰주기 위해 사용\n",
    "        * X_scaled = (X - mean) / std\n",
    "        * 변수 X의 범위를 평균으로부터 몇 std(표준편차)까지 떨어져있는지 확인, 변수의 스케일을 확대/축소 시키는 방식\n",
    "* 전처리 데이터로 모델 훈련하기"
   ]
  },
  {
   "cell_type": "markdown",
   "id": "72ffcc71",
   "metadata": {},
   "source": [
    "## Data Preprocessing"
   ]
  },
  {
   "cell_type": "markdown",
   "id": "72ffcc71",
   "metadata": {},
   "source": [
    "### Data on Fish (Bream and Smelt)"
   ]
  },
  {
   "cell_type": "code",
   "execution_count": 1,
   "id": "82b136ce",
   "metadata": {},
   "outputs": [],
   "source": [
    "fish_length = [25.4, 26.3, 26.5, 29.0, 29.0, 29.7, 29.7, 30.0, 30.0, 30.7, 31.0, 31.0, \n",
    "                31.5, 32.0, 32.0, 32.0, 33.0, 33.0, 33.5, 33.5, 34.0, 34.0, 34.5, 35.0, \n",
    "                35.0, 35.0, 35.0, 36.0, 36.0, 37.0, 38.5, 38.5, 39.5, 41.0, 41.0, 9.8, \n",
    "                10.5, 10.6, 11.0, 11.2, 11.3, 11.8, 11.8, 12.0, 12.2, 12.4, 13.0, 14.3, 15.0]\n",
    "fish_weight = [242.0, 290.0, 340.0, 363.0, 430.0, 450.0, 500.0, 390.0, 450.0, 500.0, 475.0, 500.0, \n",
    "                500.0, 340.0, 600.0, 600.0, 700.0, 700.0, 610.0, 650.0, 575.0, 685.0, 620.0, 680.0, \n",
    "                700.0, 725.0, 720.0, 714.0, 850.0, 1000.0, 920.0, 955.0, 925.0, 975.0, 950.0, 6.7, \n",
    "                7.5, 7.0, 9.7, 9.8, 8.7, 10.0, 9.9, 9.8, 12.2, 13.4, 12.2, 19.7, 19.9]"
   ]
  },
  {
   "cell_type": "code",
   "execution_count": 2,
   "id": "20edd178",
   "metadata": {},
   "outputs": [],
   "source": [
    "import numpy as np"
   ]
  },
  {
   "cell_type": "markdown",
   "id": "e8a0d959",
   "metadata": {},
   "source": [
    "##### numpy 함수 사용해서 데이터와 타겟 배열 객체 반환하기\n",
    "- ```np.함수명```\n",
    "- ```np.zeros()```: 0으로 초기화된 shape 차원의 ndarray 배열 객체 반환\n",
    "- ```np.ones()```: 1로 초기화\n",
    "- ```np.empty()```: 초기화하지 않은\n",
    "- ```np.full()```: 모든 값을 10으로 초기화\n",
    "\n",
    "* shape은 행열의 차원을 나타내고, ndarray는 배열 객체를 반환, array는 리스트 객체에 사용"
   ]
  },
  {
   "cell_type": "markdown",
   "id": "a02fa2b8",
   "metadata": {},
   "source": [
    "```np.column_stack(([a, b]))```\n",
    "-  두 개의 1차원 배열을 칼럼으로 세로로 붙여서 2차원 배열 만들기"
   ]
  },
  {
   "cell_type": "code",
   "execution_count": 5,
   "id": "fa450c0f",
   "metadata": {},
   "outputs": [
    {
     "data": {
      "text/plain": [
       "array([[1, 4],\n",
       "       [2, 5],\n",
       "       [3, 6]])"
      ]
     },
     "execution_count": 5,
     "metadata": {},
     "output_type": "execute_result"
    }
   ],
   "source": [
    "# n.n\n",
    "np.column_stack(([1,2,3],[4,5,6]))"
   ]
  },
  {
   "cell_type": "code",
   "execution_count": 11,
   "id": "d38b10e1",
   "metadata": {},
   "outputs": [
    {
     "name": "stdout",
     "output_type": "stream",
     "text": [
      "49\n",
      "[[  25.4  242. ]\n",
      " [  26.3  290. ]\n",
      " [  26.5  340. ]\n",
      " [  29.   363. ]\n",
      " [  29.   430. ]\n",
      " [  29.7  450. ]\n",
      " [  29.7  500. ]\n",
      " [  30.   390. ]\n",
      " [  30.   450. ]\n",
      " [  30.7  500. ]\n",
      " [  31.   475. ]\n",
      " [  31.   500. ]\n",
      " [  31.5  500. ]\n",
      " [  32.   340. ]\n",
      " [  32.   600. ]\n",
      " [  32.   600. ]\n",
      " [  33.   700. ]\n",
      " [  33.   700. ]\n",
      " [  33.5  610. ]\n",
      " [  33.5  650. ]\n",
      " [  34.   575. ]\n",
      " [  34.   685. ]\n",
      " [  34.5  620. ]\n",
      " [  35.   680. ]\n",
      " [  35.   700. ]\n",
      " [  35.   725. ]\n",
      " [  35.   720. ]\n",
      " [  36.   714. ]\n",
      " [  36.   850. ]\n",
      " [  37.  1000. ]\n",
      " [  38.5  920. ]\n",
      " [  38.5  955. ]\n",
      " [  39.5  925. ]\n",
      " [  41.   975. ]\n",
      " [  41.   950. ]\n",
      " [   9.8    6.7]\n",
      " [  10.5    7.5]\n",
      " [  10.6    7. ]\n",
      " [  11.     9.7]\n",
      " [  11.2    9.8]\n",
      " [  11.3    8.7]\n",
      " [  11.8   10. ]\n",
      " [  11.8    9.9]\n",
      " [  12.     9.8]\n",
      " [  12.2   12.2]\n",
      " [  12.4   13.4]\n",
      " [  13.    12.2]\n",
      " [  14.3   19.7]\n",
      " [  15.    19.9]]\n"
     ]
    }
   ],
   "source": [
    "fish_data = np.column_stack((fish_length, fish_weight)) # np.column_stack 사용해서 column이 두 개인 2차원 배열 만들기\n",
    "print(len(fish_data)) # columns = length, weight\n",
    "print(fish_data)\n"
   ]
  },
  {
   "cell_type": "markdown",
   "id": "543f9a22",
   "metadata": {},
   "source": [
    "```np.concatenate((a, b, axis = 0))```: 두 배열을 왼쪽에서 오른쪽으로 붙이기 <br>\n",
    "```np.concatenate((a, b, axis = 1))```: 두 배열을 위에서 아래로 붙이기 <br>\n",
    "-  default(axis = 0)"
   ]
  },
  {
   "cell_type": "code",
   "execution_count": 14,
   "id": "53ad5a9b",
   "metadata": {},
   "outputs": [
    {
     "name": "stdout",
     "output_type": "stream",
     "text": [
      "[1. 1. 1. 1. 1. 1. 1. 1. 1. 1. 1. 1. 1. 1. 1. 1. 1. 1. 1. 1. 1. 1. 1. 1.\n",
      " 1. 1. 1. 1. 1. 1. 1. 1. 1. 1. 1. 0. 0. 0. 0. 0. 0. 0. 0. 0. 0. 0. 0. 0.\n",
      " 0.]\n"
     ]
    }
   ],
   "source": [
    "fish_target = np.concatenate((np.ones(35), np.zeros(14))) # np.concatenate 사용해서 target 배열 만들어주기\n",
    "            # np.ones 사용해서 도미 = 1 로 설정, np.zeros 사용해서 빙어 = 0으로 초기화\n",
    "print(fish_target)"
   ]
  },
  {
   "cell_type": "markdown",
   "id": "020994b3",
   "metadata": {},
   "source": [
    "### scikit-learn 이용해서 training set & test set 분리하기"
   ]
  },
  {
   "cell_type": "code",
   "execution_count": 16,
   "id": "9e0ac2d9",
   "metadata": {},
   "outputs": [
    {
     "name": "stdout",
     "output_type": "stream",
     "text": [
      "(36, 2) (13, 2)\n",
      "(36,) (13,)\n"
     ]
    }
   ],
   "source": [
    "from sklearn.model_selection import train_test_split\n",
    "    # 훈련 세트와 테스트 세트 분리하기 위해 sklearn에서 train_test_split 호출\n",
    "    \n",
    "train_data, test_data, train_target, test_target = train_test_split(fish_data, fish_target, random_state = 42)\n",
    "    # 훈련 세트와 테스트 세트 분리.\n",
    "\n",
    "print(train_data.shape, test_data.shape)\n",
    "print(train_target.shape, test_target.shape)\n",
    "    # 훈련 세트와 테스트 세트의 행열의 차원(shape) 확인"
   ]
  },
  {
   "cell_type": "code",
   "execution_count": 17,
   "id": "ba6ef311",
   "metadata": {},
   "outputs": [
    {
     "name": "stdout",
     "output_type": "stream",
     "text": [
      "[1. 0. 0. 0. 1. 1. 1. 1. 1. 1. 1. 1. 1.]\n"
     ]
    }
   ],
   "source": [
    "print(test_target) # random sampling 되었는지 확인"
   ]
  },
  {
   "cell_type": "code",
   "execution_count": 18,
   "id": "04b32dcd",
   "metadata": {},
   "outputs": [
    {
     "name": "stdout",
     "output_type": "stream",
     "text": [
      "[0. 0. 1. 0. 1. 0. 1. 1. 1. 1. 1. 1. 1.]\n"
     ]
    }
   ],
   "source": [
    "train_data, test_data, train_target, test_target = train_test_split(fish_data, fish_target, \n",
    "                                                                    stratify = fish_target, random_state = 42)\n",
    "                                                    # target(y) 기준으로 startify! 데이터 분리 비율 맞추기\n",
    "\n",
    "print(test_target)"
   ]
  },
  {
   "cell_type": "markdown",
   "id": "f99d2579",
   "metadata": {},
   "source": [
    "### 수상한 물고기!"
   ]
  },
  {
   "cell_type": "code",
   "execution_count": 19,
   "id": "66abfb65",
   "metadata": {},
   "outputs": [
    {
     "data": {
      "text/plain": [
       "1.0"
      ]
     },
     "execution_count": 19,
     "metadata": {},
     "output_type": "execute_result"
    }
   ],
   "source": [
    "from sklearn.neighbors import KNeighborsClassifier\n",
    "\n",
    "kn = KNeighborsClassifier() # 분류 모델을 객체에 정의\n",
    "kn.fit(train_data, train_target) # 훈련 세트로 분류 모델 학습\n",
    "kn.score(test_data, test_target) # 훈련 잘 되었는지 테스트 세트로 정확도 확인"
   ]
  },
  {
   "cell_type": "code",
   "execution_count": 22,
   "id": "c088c247",
   "metadata": {},
   "outputs": [
    {
     "name": "stdout",
     "output_type": "stream",
     "text": [
      "[0.]\n"
     ]
    }
   ],
   "source": [
    "# 수상한 물고기의 길이는 25, 무게는 150\n",
    "\n",
    "print(kn.predict([[25, 150]])) # output = [0.] 빙어라고 예측. 근데 이 물고기 사실은 도미임 ㅠ\n",
    "\n",
    "    # KNeighborsClassifier()는 비슷한 특성을 가진 데이터는 비슷한 범주에 속한다는 가정의 분류법.\n",
    "    # 가장 가까운 이웃 데이터를 이용해서 예측\n",
    "    # 빙어의 데이터가 가장 가까웠나? - Data visualization으로 확인해보면 된다."
   ]
  },
  {
   "cell_type": "code",
   "execution_count": 30,
   "id": "08c9c695",
   "metadata": {},
   "outputs": [
    {
     "data": {
      "image/png": "[encoded data removed]",
      "text/plain": [
       "<Figure size 640x480 with 1 Axes>"
      ]
     },
     "metadata": {},
     "output_type": "display_data"
    }
   ],
   "source": [
    "import matplotlib.pyplot as plt\n",
    "\n",
    "plt.scatter(train_data[:, 0], train_data[:, 1], label = 'train_data')\n",
    "# plt.scatter(test_data[:, 0], test_data[:, 1], label = 'test_data')\n",
    "    # 없어도 됨\n",
    "    # 훈련 세트로 분류 모델 학습 시켰고, 개별적인 테스트 셋 [25, 150]에 대해서 예측하기 위함이니까\n",
    "    # 이전에 사용한 테스트 세트는 필요 없당.\n",
    "plt.scatter(25, 150, marker = '^', label = 'suspicious_fish')\n",
    "plt.legend(loc = 0)\n",
    "\n",
    "plt.xlabel('length')\n",
    "plt.ylabel('weight')\n",
    "plt.show()"
   ]
  },
  {
   "cell_type": "markdown",
   "id": "48b9c484",
   "metadata": {},
   "source": [
    "- 보기에는 수상한 물고기는 빙어데이터에 가까워보이지 않는당.. \n",
    "- 더 정확히 보기 위해 가장 가까운 이웃과의 거리와 그 이웃샘플의 인덱스를 얻어서 그래프에 표시해보자.\n",
    "    - ```모델.kneighbors()``` 함수를 사용해 distances와 indexes를 반환한다.\n",
    "    - 가장 가까운 이웃과의 거리와 그 이웃샘플의 인덱스를 얻을 수 있다.\n",
    "    - n_neighbor의 default = 5 이기 때문에 5개의 인덱스와 거리가 반환될 것이다."
   ]
  },
  {
   "cell_type": "code",
   "execution_count": 28,
   "id": "c705b177",
   "metadata": {},
   "outputs": [
    {
     "name": "stdout",
     "output_type": "stream",
     "text": [
      "distances:  [[ 92.00086956 130.48375378 130.73859415 138.32150953 138.39320793]]\n",
      "indexes:  [[21 33 19 30  1]]\n"
     ]
    }
   ],
   "source": [
    "distances, indexes = kn.kneighbors([[25, 150]])\n",
    "print('distances: ', distances)\n",
    "print('indexes: ', indexes)"
   ]
  },
  {
   "cell_type": "markdown",
   "id": "25f282fe",
   "metadata": {},
   "source": [
    "* 반환된 5개의 이웃샘플의 데이터도 그래프에 표현해보자."
   ]
  },
  {
   "cell_type": "code",
   "execution_count": 31,
   "id": "bf523f04",
   "metadata": {},
   "outputs": [
    {
     "data": {
      "image/png": "[encoded data removed]",
      "text/plain": [
       "<Figure size 640x480 with 1 Axes>"
      ]
     },
     "metadata": {},
     "output_type": "display_data"
    }
   ],
   "source": [
    "plt.scatter(train_data[:, 0], train_data[:, 1], label = 'train_data')\n",
    "            # x = 모든 행의 0번째 column(length)에 해당하는 값\n",
    "            # y =모든 행의 1번째 column(weight)에 해당하는 값\n",
    "plt.scatter(25, 150, marker = '^', label = 'suspicious_fish')\n",
    "plt.scatter(train_data[indexes, 0], train_data[indexes, 1], marker = 'D', label = 'neighboring_fish')\n",
    "            # x = 해당 index의 'length' column에 해당하는 값\n",
    "            # y = 해당 index의 'weight' column에 해당하는 값\n",
    "plt.legend(loc = 0)\n",
    "\n",
    "plt.xlabel('length')\n",
    "plt.ylabel('weight')\n",
    "plt.show()"
   ]
  },
  {
   "cell_type": "code",
   "execution_count": 32,
   "id": "9eb474f0",
   "metadata": {},
   "outputs": [
    {
     "data": {
      "text/plain": [
       "array([[[ 25.4, 242. ],\n",
       "        [ 15. ,  19.9],\n",
       "        [ 14.3,  19.7],\n",
       "        [ 13. ,  12.2],\n",
       "        [ 12.2,  12.2]]])"
      ]
     },
     "execution_count": 32,
     "metadata": {},
     "output_type": "execute_result"
    }
   ],
   "source": [
    "train_data[indexes]"
   ]
  },
  {
   "cell_type": "code",
   "execution_count": 33,
   "id": "3ed411bd",
   "metadata": {},
   "outputs": [
    {
     "data": {
      "text/plain": [
       "array([[1., 0., 0., 0., 0.]])"
      ]
     },
     "execution_count": 33,
     "metadata": {},
     "output_type": "execute_result"
    }
   ],
   "source": [
    "train_target[indexes]"
   ]
  },
  {
   "cell_type": "code",
   "execution_count": 34,
   "id": "dd09f242",
   "metadata": {},
   "outputs": [
    {
     "data": {
      "text/plain": [
       "array([[ 92.00086956, 130.48375378, 130.73859415, 138.32150953,\n",
       "        138.39320793]])"
      ]
     },
     "execution_count": 34,
     "metadata": {},
     "output_type": "execute_result"
    }
   ],
   "source": [
    "distances"
   ]
  },
  {
   "cell_type": "markdown",
   "id": "d8928d31",
   "metadata": {},
   "source": [
    "- 누가봐도 도미랑 가까운 물고기인데 빙어라고 나온 이유는 가장 가까운 데이터의 물고기 5개 중 4개가 빙어로 나왔기 때문이다.\n",
    "- x축과 y축의 범위가 다르면 이런 오류가 생길 수 있다.\n",
    "- **데이터 전처리가 중요한 이유!**\n",
    "- x축과 y축의 범위를 맞춰주자.\n"
   ]
  },
  {
   "cell_type": "code",
   "execution_count": 35,
   "id": "892c6df2",
   "metadata": {},
   "outputs": [
    {
     "data": {
      "image/png": "[encoded data removed]",
      "text/plain": [
       "<Figure size 640x480 with 1 Axes>"
      ]
     },
     "metadata": {},
     "output_type": "display_data"
    }
   ],
   "source": [
    "plt.scatter(train_data[:, 0], train_data[:, 1], label = 'train_data')\n",
    "            # x = 모든 행의 0번째 column(length)에 해당하는 값\n",
    "            # y =모든 행의 1번째 column(weight)에 해당하는 값\n",
    "plt.scatter(25, 150, marker = '^', label = 'suspicious_fish')\n",
    "plt.scatter(train_data[indexes, 0], train_data[indexes, 1], marker = 'D', label = 'neighboring_fish')\n",
    "            # x = 해당 index의 'length' column에 해당하는 값\n",
    "            # y = 해당 index의 'weight' column에 해당하는 값\n",
    "plt.legend(loc = 0)\n",
    "\n",
    "plt.xlabel('length')\n",
    "plt.ylabel('weight')\n",
    "\n",
    "plt.xlim((0, 1000)) # y 축의 범위와 동일하게 설정\n",
    "plt.show()"
   ]
  },
  {
   "cell_type": "markdown",
   "id": "c814b864",
   "metadata": {},
   "source": [
    "- 두 축의 범위를 맞춰주었을 때 x축의 거리 차이가 의미없다는 것을 알 수 있다.\n",
    "- 두 특성의 스케일이 다르면 스케일을 일정한 기준으로 맞추어 주어야 한다.\n",
    "- K-NN 알고리즘처럼 거리 기반 알고리즘을 사용할 때에는 데이터 표현 기준이 다르면 올바른 예측이 불가능하다.\n",
    "\n",
    "### Broadcasting\n",
    "##### z-점수 표준화 (z-score standardization)\n",
    "- ```X_scaled = (X - mean) / std```\n",
    "- 변수 X의 범위를 평균으로부터 몇 표준편차만큼 떨어져 있는지에 따라 변수의 스케일을 확대/축소시키는 방식"
   ]
  },
  {
   "cell_type": "code",
   "execution_count": 37,
   "id": "bbd9b374",
   "metadata": {},
   "outputs": [],
   "source": [
    "mean = np.mean(train_data, axis = 0) # 열의 평균을 구한다\n",
    "std = np.std(train_data, axis = 0) # 열의 표준편차를 구한다\n",
    "# axis = 0 행을 따라 열의 통계 값을 계산하겠다\n",
    "# axis = 1 열을 따라 행의 통계 값을 계산하겠다"
   ]
  },
  {
   "cell_type": "code",
   "execution_count": 38,
   "id": "85d560b8",
   "metadata": {},
   "outputs": [
    {
     "data": {
      "text/plain": [
       "array([[ 0.24070039,  0.14198246],\n",
       "       [-1.51237757, -1.36683783],\n",
       "       [ 0.5712808 ,  0.76060496],\n",
       "       [-1.60253587, -1.37766373],\n",
       "       [ 1.22242404,  1.45655528],\n",
       "       [ 0.17057727, -0.07453542],\n",
       "       [ 0.87180845,  0.80390854],\n",
       "       [ 0.87180845,  1.22457184],\n",
       "       [ 0.37092904,  0.06465464],\n",
       "       [ 0.77163257,  0.82246721],\n",
       "       [ 0.97198434,  1.68853872],\n",
       "       [-1.61255346, -1.3742613 ],\n",
       "       [ 0.72154463,  0.51315596],\n",
       "       [-1.53241275, -1.3742613 ],\n",
       "       [ 0.17057727, -0.28177396],\n",
       "       [ 0.5712808 ,  0.76060496],\n",
       "       [ 0.34087627,  0.14198246],\n",
       "       [ 1.12224816,  1.54934866],\n",
       "       [ 0.62136874,  0.60594934],\n",
       "       [-1.30200822, -1.34363949],\n",
       "       [ 0.42101698,  0.14198246],\n",
       "       [-0.19005591, -0.65604058],\n",
       "       [-1.75279969, -1.38384995],\n",
       "       [ 0.47110492,  0.45129371],\n",
       "       [-1.68267658, -1.38137546],\n",
       "       [ 0.62136874,  0.48222484],\n",
       "       [-1.67265899, -1.38292202],\n",
       "       [ 0.77163257,  0.76060496],\n",
       "       [ 0.47110492,  0.45129371],\n",
       "       [ 0.77163257,  0.83793278],\n",
       "       [-1.43223687, -1.36683783],\n",
       "       [ 0.27075315, -0.01267317],\n",
       "       [ 0.47110492, -0.35291555],\n",
       "       [-1.2318851 , -1.34302087],\n",
       "       [ 0.27075315, -0.19825992],\n",
       "       [ 1.37268787,  1.61121091]])"
      ]
     },
     "execution_count": 38,
     "metadata": {},
     "output_type": "execute_result"
    }
   ],
   "source": [
    "train_scaled = (train_data - mean) / std\n",
    "train_scaled"
   ]
  },
  {
   "cell_type": "code",
   "execution_count": 41,
   "id": "9584c0a4",
   "metadata": {},
   "outputs": [
    {
     "data": {
      "text/plain": [
       "array([-0.23012627, -0.94060693])"
      ]
     },
     "execution_count": 41,
     "metadata": {},
     "output_type": "execute_result"
    }
   ],
   "source": [
    "suspicious_scaled = ([25, 150] - mean) / std\n",
    "suspicious_scaled"
   ]
  },
  {
   "cell_type": "code",
   "execution_count": 43,
   "id": "44b3da77",
   "metadata": {},
   "outputs": [
    {
     "data": {
      "image/png": "[encoded data removed]",
      "text/plain": [
       "<Figure size 640x480 with 1 Axes>"
      ]
     },
     "metadata": {},
     "output_type": "display_data"
    }
   ],
   "source": [
    "plt.scatter(train_scaled[:, 0], train_scaled[:, 1])\n",
    "plt.scatter(suspicious_scaled[0], suspicious_scaled[1], marker = '^')\n",
    "plt.xlabel('length')\n",
    "plt.ylabel('weight')\n",
    "plt.show()"
   ]
  },
  {
   "cell_type": "markdown",
   "id": "90c05a4f",
   "metadata": {},
   "source": [
    "- 스케일링 완료\n",
    "- 스케일링한 학습 데이터로 분류 모델 학습시킨다."
   ]
  },
  {
   "cell_type": "code",
   "execution_count": 44,
   "id": "ba41f569",
   "metadata": {},
   "outputs": [
    {
     "data": {
      "text/html": [
       "<style>#sk-container-id-1 {color: black;background-color: white;}#sk-container-id-1 pre{padding: 0;}#sk-container-id-1 div.sk-toggleable {background-color: white;}#sk-container-id-1 label.sk-toggleable__label {cursor: pointer;display: block;width: 100%;margin-bottom: 0;padding: 0.3em;box-sizing: border-box;text-align: center;}#sk-container-id-1 label.sk-toggleable__label-arrow:before {content: \"▸\";float: left;margin-right: 0.25em;color: #696969;}#sk-container-id-1 label.sk-toggleable__label-arrow:hover:before {color: black;}#sk-container-id-1 div.sk-estimator:hover label.sk-toggleable__label-arrow:before {color: black;}#sk-container-id-1 div.sk-toggleable__content {max-height: 0;max-width: 0;overflow: hidden;text-align: left;background-color: #f0f8ff;}#sk-container-id-1 div.sk-toggleable__content pre {margin: 0.2em;color: black;border-radius: 0.25em;background-color: #f0f8ff;}#sk-container-id-1 input.sk-toggleable__control:checked~div.sk-toggleable__content {max-height: 200px;max-width: 100%;overflow: auto;}#sk-container-id-1 input.sk-toggleable__control:checked~label.sk-toggleable__label-arrow:before {content: \"▾\";}#sk-container-id-1 div.sk-estimator input.sk-toggleable__control:checked~label.sk-toggleable__label {background-color: #d4ebff;}#sk-container-id-1 div.sk-label input.sk-toggleable__control:checked~label.sk-toggleable__label {background-color: #d4ebff;}#sk-container-id-1 input.sk-hidden--visually {border: 0;clip: rect(1px 1px 1px 1px);clip: rect(1px, 1px, 1px, 1px);height: 1px;margin: -1px;overflow: hidden;padding: 0;position: absolute;width: 1px;}#sk-container-id-1 div.sk-estimator {font-family: monospace;background-color: #f0f8ff;border: 1px dotted black;border-radius: 0.25em;box-sizing: border-box;margin-bottom: 0.5em;}#sk-container-id-1 div.sk-estimator:hover {background-color: #d4ebff;}#sk-container-id-1 div.sk-parallel-item::after {content: \"\";width: 100%;border-bottom: 1px solid gray;flex-grow: 1;}#sk-container-id-1 div.sk-label:hover label.sk-toggleable__label {background-color: #d4ebff;}#sk-container-id-1 div.sk-serial::before {content: \"\";position: absolute;border-left: 1px solid gray;box-sizing: border-box;top: 0;bottom: 0;left: 50%;z-index: 0;}#sk-container-id-1 div.sk-serial {display: flex;flex-direction: column;align-items: center;background-color: white;padding-right: 0.2em;padding-left: 0.2em;position: relative;}#sk-container-id-1 div.sk-item {position: relative;z-index: 1;}#sk-container-id-1 div.sk-parallel {display: flex;align-items: stretch;justify-content: center;background-color: white;position: relative;}#sk-container-id-1 div.sk-item::before, #sk-container-id-1 div.sk-parallel-item::before {content: \"\";position: absolute;border-left: 1px solid gray;box-sizing: border-box;top: 0;bottom: 0;left: 50%;z-index: -1;}#sk-container-id-1 div.sk-parallel-item {display: flex;flex-direction: column;z-index: 1;position: relative;background-color: white;}#sk-container-id-1 div.sk-parallel-item:first-child::after {align-self: flex-end;width: 50%;}#sk-container-id-1 div.sk-parallel-item:last-child::after {align-self: flex-start;width: 50%;}#sk-container-id-1 div.sk-parallel-item:only-child::after {width: 0;}#sk-container-id-1 div.sk-dashed-wrapped {border: 1px dashed gray;margin: 0 0.4em 0.5em 0.4em;box-sizing: border-box;padding-bottom: 0.4em;background-color: white;}#sk-container-id-1 div.sk-label label {font-family: monospace;font-weight: bold;display: inline-block;line-height: 1.2em;}#sk-container-id-1 div.sk-label-container {text-align: center;}#sk-container-id-1 div.sk-container {/* jupyter's `normalize.less` sets `[hidden] { display: none; }` but bootstrap.min.css set `[hidden] { display: none !important; }` so we also need the `!important` here to be able to override the default hidden behavior on the sphinx rendered scikit-learn.org. See: https://github.com/scikit-learn/scikit-learn/issues/21755 */display: inline-block !important;position: relative;}#sk-container-id-1 div.sk-text-repr-fallback {display: none;}</style><div id=\"sk-container-id-1\" class=\"sk-top-container\"><div class=\"sk-text-repr-fallback\"><pre>KNeighborsClassifier()</pre><b>In a Jupyter environment, please rerun this cell to show the HTML representation or trust the notebook. <br />On GitHub, the HTML representation is unable to render, please try loading this page with nbviewer.org.</b></div><div class=\"sk-container\" hidden><div class=\"sk-item\"><div class=\"sk-estimator sk-toggleable\"><input class=\"sk-toggleable__control sk-hidden--visually\" id=\"sk-estimator-id-1\" type=\"checkbox\" checked><label for=\"sk-estimator-id-1\" class=\"sk-toggleable__label sk-toggleable__label-arrow\">KNeighborsClassifier</label><div class=\"sk-toggleable__content\"><pre>KNeighborsClassifier()</pre></div></div></div></div></div>"
      ],
      "text/plain": [
       "KNeighborsClassifier()"
      ]
     },
     "execution_count": 44,
     "metadata": {},
     "output_type": "execute_result"
    }
   ],
   "source": [
    "kn.fit(train_scaled, train_target)"
   ]
  },
  {
   "cell_type": "code",
   "execution_count": 45,
   "id": "0ca76497",
   "metadata": {},
   "outputs": [],
   "source": [
    "test_scaled = (test_data - mean) / std"
   ]
  },
  {
   "cell_type": "code",
   "execution_count": 46,
   "id": "679ea691",
   "metadata": {},
   "outputs": [
    {
     "data": {
      "text/plain": [
       "1.0"
      ]
     },
     "execution_count": 46,
     "metadata": {},
     "output_type": "execute_result"
    }
   ],
   "source": [
    "kn.score(test_scaled, test_target)"
   ]
  },
  {
   "cell_type": "code",
   "execution_count": 49,
   "id": "9eee0192",
   "metadata": {},
   "outputs": [
    {
     "data": {
      "text/plain": [
       "array([1.])"
      ]
     },
     "execution_count": 49,
     "metadata": {},
     "output_type": "execute_result"
    }
   ],
   "source": [
    "kn.predict([suspicious_scaled]) # 스케일링한 수상한 물고기 데이터\n",
    "\n",
    "# output [1.] = 도미\n",
    "# 정답이다!"
   ]
  },
  {
   "cell_type": "code",
   "execution_count": 52,
   "id": "7eb785c3",
   "metadata": {},
   "outputs": [
    {
     "name": "stdout",
     "output_type": "stream",
     "text": [
      "distances:  [[0.2873737  0.7711188  0.89552179 0.91493515 0.95427626]]\n",
      "indexes:  [[21 14 34 32  5]]\n"
     ]
    }
   ],
   "source": [
    "distances, indexes = kn.kneighbors([suspicious_scaled])\n",
    "print('distances: ', distances)\n",
    "print('indexes: ', indexes)"
   ]
  },
  {
   "cell_type": "code",
   "execution_count": 53,
   "id": "4cc6a574",
   "metadata": {},
   "outputs": [
    {
     "data": {
      "image/png": "[encoded data removed]",
      "text/plain": [
       "<Figure size 640x480 with 1 Axes>"
      ]
     },
     "metadata": {},
     "output_type": "display_data"
    }
   ],
   "source": [
    "plt.scatter(train_scaled[:, 0], train_scaled[:, 1])\n",
    "plt.scatter(suspicious_scaled[0], suspicious_scaled[1], marker = '^')\n",
    "plt.scatter(train_scaled[indexes, 0], train_scaled[indexes, 1], marker = 'D')\n",
    "plt.xlabel('length')\n",
    "plt.ylabel('weight')\n",
    "plt.show()"
   ]
  },
  {
   "cell_type": "code",
   "execution_count": null,
   "id": "53d5d1d5",
   "metadata": {},
   "outputs": [],
   "source": []
  }
 ],
 "metadata": {
  "kernelspec": {
   "display_name": "Python 3 (ipykernel)",
   "language": "python",
   "name": "python3"
  },
  "language_info": {
   "codemirror_mode": {
    "name": "ipython",
    "version": 3
   },
   "file_extension": ".py",
   "mimetype": "text/x-python",
   "name": "python",
   "nbconvert_exporter": "python",
   "pygments_lexer": "ipython3",
   "version": "3.10.9"
  }
 },
 "nbformat": 4,
 "nbformat_minor": 5
}
