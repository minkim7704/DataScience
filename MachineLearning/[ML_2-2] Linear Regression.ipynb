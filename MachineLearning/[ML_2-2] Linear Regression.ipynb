{
 "cells": [
  {
   "cell_type": "markdown",
   "id": "4094e095",
   "metadata": {},
   "source": [
    "#### 농어(perch)의 길이 데이터를 통해 농어 무게 예측하는 모델 만들기\n",
    "\n",
    "* K-NN(K-Nearest Neighbor) Regression (K-최근접 이웃 회귀)\n",
    "    * Limitations\n",
    "* **Linear Regression** (선형회귀): 널리 사용되는 대표적인 회귀 알고리즘\n",
    "    * dependent variable (y), 1개 이상의 independent variable (x)의 선형 상관관계를 모델링하는 기법\n",
    "    * Simple Linear Regression (단순 선형 회귀): 1 independent variable (x)\n",
    "        * y = Wx + b (y = dv, W = weight, iv = x, b = bias)\n",
    "        * 적절한 weight (가중치), bias (편향) 값을 찾는 것\n",
    "        * 직선의 그래프\n",
    "    * Multiple Linear Regression (다중 선형 회귀): over 1 independent variables (x)\n",
    "        * y = W1x1 + W2x2 + ... +Wnxn + b\n",
    "        * 여러 독립 변수에 영향을 받음\n",
    "        * 평면의 그래프\n",
    "\n",
    "## K-NN regression: restrictions"
   ]
  },
  {
   "cell_type": "markdown",
   "id": "cd472915",
   "metadata": {},
   "source": [
    "### Data on Perch\n",
    "- 농어 (perch)의 길이 데이터를 통해 농어 무게 예측하는 모델 만들기"
   ]
  },
  {
   "cell_type": "code",
   "execution_count": 1,
   "id": "9576ae1b",
   "metadata": {},
   "outputs": [],
   "source": [
    "import numpy as np\n",
    "\n",
    "perch_length = np.array(\n",
    "    [8.4, 13.7, 15.0, 16.2, 17.4, 18.0, 18.7, 19.0, 19.6, 20.0, \n",
    "     21.0, 21.0, 21.0, 21.3, 22.0, 22.0, 22.0, 22.0, 22.0, 22.5, \n",
    "     22.5, 22.7, 23.0, 23.5, 24.0, 24.0, 24.6, 25.0, 25.6, 26.5, \n",
    "     27.3, 27.5, 27.5, 27.5, 28.0, 28.7, 30.0, 32.8, 34.5, 35.0, \n",
    "     36.5, 36.0, 37.0, 37.0, 39.0, 39.0, 39.0, 40.0, 40.0, 40.0, \n",
    "     40.0, 42.0, 43.0, 43.0, 43.5, 44.0]\n",
    "     ) # 농어 길이에 해당하는 값의 리스트 - np.array에 전달\n",
    "\n",
    "perch_weight = np.array(\n",
    "    [5.9, 32.0, 40.0, 51.5, 70.0, 100.0, 78.0, 80.0, 85.0, 85.0, \n",
    "     110.0, 115.0, 125.0, 130.0, 120.0, 120.0, 130.0, 135.0, 110.0, \n",
    "     130.0, 150.0, 145.0, 150.0, 170.0, 225.0, 145.0, 188.0, 180.0, \n",
    "     197.0, 218.0, 300.0, 260.0, 265.0, 250.0, 250.0, 300.0, 320.0, \n",
    "     514.0, 556.0, 840.0, 685.0, 700.0, 700.0, 690.0, 900.0, 650.0, \n",
    "     820.0, 850.0, 900.0, 1015.0, 820.0, 1100.0, 1000.0, 1100.0, \n",
    "     1000.0, 1000.0]\n",
    "     ) # 농어 무게에 해당하는 값의 리스트 - np.array에 전달\n"
   ]
  },
  {
   "cell_type": "code",
   "execution_count": 2,
   "id": "cbc94be5",
   "metadata": {},
   "outputs": [],
   "source": [
    "from sklearn.model_selection import train_test_split\n",
    "    # 훈련 데이터와 테스트 데이터 분리하기\n",
    "    \n",
    "train_data, test_data, train_target, test_target = train_test_split(\n",
    "    perch_length, perch_weight, random_state = 42)\n",
    "    # 농어 길이 데이터로 무게를 예측할거니까 X = 길이, target = 무게\n",
    "\n",
    "train_data = train_data.reshape(-1,1) # 2차원 배열로 변경하기\n",
    "test_data = test_data.reshape(-1,1) # 2차원 배열로 변경하기"
   ]
  },
  {
   "cell_type": "code",
   "execution_count": 3,
   "id": "28008680",
   "metadata": {},
   "outputs": [
    {
     "data": {
      "text/html": [
       "<style>#sk-container-id-1 {color: black;background-color: white;}#sk-container-id-1 pre{padding: 0;}#sk-container-id-1 div.sk-toggleable {background-color: white;}#sk-container-id-1 label.sk-toggleable__label {cursor: pointer;display: block;width: 100%;margin-bottom: 0;padding: 0.3em;box-sizing: border-box;text-align: center;}#sk-container-id-1 label.sk-toggleable__label-arrow:before {content: \"▸\";float: left;margin-right: 0.25em;color: #696969;}#sk-container-id-1 label.sk-toggleable__label-arrow:hover:before {color: black;}#sk-container-id-1 div.sk-estimator:hover label.sk-toggleable__label-arrow:before {color: black;}#sk-container-id-1 div.sk-toggleable__content {max-height: 0;max-width: 0;overflow: hidden;text-align: left;background-color: #f0f8ff;}#sk-container-id-1 div.sk-toggleable__content pre {margin: 0.2em;color: black;border-radius: 0.25em;background-color: #f0f8ff;}#sk-container-id-1 input.sk-toggleable__control:checked~div.sk-toggleable__content {max-height: 200px;max-width: 100%;overflow: auto;}#sk-container-id-1 input.sk-toggleable__control:checked~label.sk-toggleable__label-arrow:before {content: \"▾\";}#sk-container-id-1 div.sk-estimator input.sk-toggleable__control:checked~label.sk-toggleable__label {background-color: #d4ebff;}#sk-container-id-1 div.sk-label input.sk-toggleable__control:checked~label.sk-toggleable__label {background-color: #d4ebff;}#sk-container-id-1 input.sk-hidden--visually {border: 0;clip: rect(1px 1px 1px 1px);clip: rect(1px, 1px, 1px, 1px);height: 1px;margin: -1px;overflow: hidden;padding: 0;position: absolute;width: 1px;}#sk-container-id-1 div.sk-estimator {font-family: monospace;background-color: #f0f8ff;border: 1px dotted black;border-radius: 0.25em;box-sizing: border-box;margin-bottom: 0.5em;}#sk-container-id-1 div.sk-estimator:hover {background-color: #d4ebff;}#sk-container-id-1 div.sk-parallel-item::after {content: \"\";width: 100%;border-bottom: 1px solid gray;flex-grow: 1;}#sk-container-id-1 div.sk-label:hover label.sk-toggleable__label {background-color: #d4ebff;}#sk-container-id-1 div.sk-serial::before {content: \"\";position: absolute;border-left: 1px solid gray;box-sizing: border-box;top: 0;bottom: 0;left: 50%;z-index: 0;}#sk-container-id-1 div.sk-serial {display: flex;flex-direction: column;align-items: center;background-color: white;padding-right: 0.2em;padding-left: 0.2em;position: relative;}#sk-container-id-1 div.sk-item {position: relative;z-index: 1;}#sk-container-id-1 div.sk-parallel {display: flex;align-items: stretch;justify-content: center;background-color: white;position: relative;}#sk-container-id-1 div.sk-item::before, #sk-container-id-1 div.sk-parallel-item::before {content: \"\";position: absolute;border-left: 1px solid gray;box-sizing: border-box;top: 0;bottom: 0;left: 50%;z-index: -1;}#sk-container-id-1 div.sk-parallel-item {display: flex;flex-direction: column;z-index: 1;position: relative;background-color: white;}#sk-container-id-1 div.sk-parallel-item:first-child::after {align-self: flex-end;width: 50%;}#sk-container-id-1 div.sk-parallel-item:last-child::after {align-self: flex-start;width: 50%;}#sk-container-id-1 div.sk-parallel-item:only-child::after {width: 0;}#sk-container-id-1 div.sk-dashed-wrapped {border: 1px dashed gray;margin: 0 0.4em 0.5em 0.4em;box-sizing: border-box;padding-bottom: 0.4em;background-color: white;}#sk-container-id-1 div.sk-label label {font-family: monospace;font-weight: bold;display: inline-block;line-height: 1.2em;}#sk-container-id-1 div.sk-label-container {text-align: center;}#sk-container-id-1 div.sk-container {/* jupyter's `normalize.less` sets `[hidden] { display: none; }` but bootstrap.min.css set `[hidden] { display: none !important; }` so we also need the `!important` here to be able to override the default hidden behavior on the sphinx rendered scikit-learn.org. See: https://github.com/scikit-learn/scikit-learn/issues/21755 */display: inline-block !important;position: relative;}#sk-container-id-1 div.sk-text-repr-fallback {display: none;}</style><div id=\"sk-container-id-1\" class=\"sk-top-container\"><div class=\"sk-text-repr-fallback\"><pre>KNeighborsRegressor(n_neighbors=3)</pre><b>In a Jupyter environment, please rerun this cell to show the HTML representation or trust the notebook. <br />On GitHub, the HTML representation is unable to render, please try loading this page with nbviewer.org.</b></div><div class=\"sk-container\" hidden><div class=\"sk-item\"><div class=\"sk-estimator sk-toggleable\"><input class=\"sk-toggleable__control sk-hidden--visually\" id=\"sk-estimator-id-1\" type=\"checkbox\" checked><label for=\"sk-estimator-id-1\" class=\"sk-toggleable__label sk-toggleable__label-arrow\">KNeighborsRegressor</label><div class=\"sk-toggleable__content\"><pre>KNeighborsRegressor(n_neighbors=3)</pre></div></div></div></div></div>"
      ],
      "text/plain": [
       "KNeighborsRegressor(n_neighbors=3)"
      ]
     },
     "execution_count": 3,
     "metadata": {},
     "output_type": "execute_result"
    }
   ],
   "source": [
    "from sklearn.neighbors import KNeighborsRegressor\n",
    "    # scikit-learn 에서 K-NN regression - import\n",
    "    \n",
    "knr = KNeighborsRegressor(n_neighbors = 3) # 객체 지정, 이웃의 수 설정\n",
    "knr.fit(train_data, train_target) # 훈련 세트를 모델 객체에 전달해 모델 학습시키기"
   ]
  },
  {
   "cell_type": "code",
   "execution_count": 4,
   "id": "2fd6728f",
   "metadata": {},
   "outputs": [
    {
     "data": {
      "text/plain": [
       "array([1033.33333333])"
      ]
     },
     "execution_count": 4,
     "metadata": {},
     "output_type": "execute_result"
    }
   ],
   "source": [
    "knr.predict([[50]]) # 길이가 50인 농어의 몸무게를 예측하기 output = 1033"
   ]
  },
  {
   "cell_type": "code",
   "execution_count": 5,
   "id": "9727844b",
   "metadata": {},
   "outputs": [
    {
     "name": "stdout",
     "output_type": "stream",
     "text": [
      "distances:  [[6. 7. 7.]]\n",
      "indexes:  [[34  8 14]]\n"
     ]
    },
    {
     "data": {
      "image/png": "[encoded data removed]",
      "text/plain": [
       "<Figure size 640x480 with 1 Axes>"
      ]
     },
     "metadata": {},
     "output_type": "display_data"
    }
   ],
   "source": [
    "distances, indexes = knr.kneighbors([[50]])\n",
    "print('distances: ', distances)\n",
    "print('indexes: ', indexes)\n",
    "\n",
    "import matplotlib.pyplot as plt\n",
    "\n",
    "plt.scatter(train_data, train_target)\n",
    "plt.scatter(50, 1033, marker = '^')\n",
    "plt.scatter(train_data[indexes], train_target[indexes], marker = 'D')\n",
    "plt.show()"
   ]
  },
  {
   "cell_type": "code",
   "execution_count": 6,
   "id": "b18f755f",
   "metadata": {},
   "outputs": [
    {
     "data": {
      "text/plain": [
       "1033.3333333333333"
      ]
     },
     "execution_count": 6,
     "metadata": {},
     "output_type": "execute_result"
    }
   ],
   "source": [
    "np.mean(train_target[indexes]) # 가까운 이웃에 해당하는 물고기들의 평균 몸무게(target)"
   ]
  },
  {
   "cell_type": "code",
   "execution_count": 7,
   "id": "6631704c",
   "metadata": {},
   "outputs": [
    {
     "data": {
      "text/plain": [
       "array([1033.33333333])"
      ]
     },
     "execution_count": 7,
     "metadata": {},
     "output_type": "execute_result"
    }
   ],
   "source": [
    "knr.predict([[100]]) # 길이 100인 물고기의 예측되는 몸무게 = 1033"
   ]
  },
  {
   "cell_type": "code",
   "execution_count": 8,
   "id": "483efc7e",
   "metadata": {},
   "outputs": [
    {
     "data": {
      "image/png": "[encoded data removed]",
      "text/plain": [
       "<Figure size 640x480 with 1 Axes>"
      ]
     },
     "metadata": {},
     "output_type": "display_data"
    }
   ],
   "source": [
    "# 100 cm 농어의 이웃을 구한다.\n",
    "\n",
    "distances, indexes = knr.kneighbors([[100]])\n",
    "plt.scatter(train_data, train_target)\n",
    "plt.scatter(100, 1033, marker = '^')\n",
    "plt.scatter(train_data[indexes], train_target[indexes], marker = 'D')\n",
    "plt.show()"
   ]
  },
  {
   "cell_type": "markdown",
   "id": "9fa48abc",
   "metadata": {},
   "source": [
    "### K-NN 회귀의 약점!\n",
    "- 가장 가까운 거리에 있는 데이터와 같은 범주에 있다는 가정 하에 예측을 하기 때문에\n",
    "- 100 cm의 농어도 가장 가까운 거리에 있는 데이터 (약 40 - 50 cm)의 몸무게와 동일한 몸무게로 예측할 것이고, 농어가 아무리 커도 무게는 늘어나지 않을 것이다. \n",
    "\n",
    "##### 이런 오류를 피하기 위해 변수가 1개 일 때에는 단순 선형 회귀를 쓸 수 있다."
   ]
  },
  {
   "cell_type": "markdown",
   "id": "3c3392b7",
   "metadata": {},
   "source": [
    "## Linear Regression\n",
    "\n",
    "- 하나의 독립변수 사용: 직선의 그래프 y = ax + b 의 형태를 가진다.\n",
    "- a 는 lr 객체의 coef_ 변수에, b는 lr 객체의 intercept_ 변수에 저장된다."
   ]
  },
  {
   "cell_type": "code",
   "execution_count": 9,
   "id": "f0bc5696",
   "metadata": {},
   "outputs": [
    {
     "name": "stdout",
     "output_type": "stream",
     "text": [
      "[3192.69585141]\n"
     ]
    }
   ],
   "source": [
    "from sklearn.linear_model import LinearRegression\n",
    "    # 선형 회귀 사용을 위해 sklearn 에서 LinearRegression 호출\n",
    "\n",
    "lr = LinearRegression() # 객체 정의\n",
    "lr.fit(train_data, train_target) # 훈련 세트로 모델 학습시키기\n",
    "print(lr.predict([[100]])) # 길이가 100인 농어의 몸무게를 예측하기"
   ]
  },
  {
   "cell_type": "code",
   "execution_count": 10,
   "id": "7997eaec",
   "metadata": {},
   "outputs": [
    {
     "name": "stdout",
     "output_type": "stream",
     "text": [
      "[39.01714496] -709.0186449535477\n"
     ]
    }
   ],
   "source": [
    "# K-NN 회귀를 이용했을 때 길이가 아무리 커져도 무게는 늘어나지 않는 결과를 봤었다.\n",
    "# output = 3192 K-NN 회귀를 이용했을 때보다 약 3배 이상 무거운 무게가 나왔다.\n",
    "\n",
    "print(lr.coef_, lr.intercept_)\n",
    "    # y = (lr.coef_)x + (lrr.intercept_)의 직선이 구해졌다."
   ]
  },
  {
   "cell_type": "code",
   "execution_count": 11,
   "id": "e2e9c10a",
   "metadata": {},
   "outputs": [
    {
     "data": {
      "image/png": "[encoded data removed]",
      "text/plain": [
       "<Figure size 640x480 with 1 Axes>"
      ]
     },
     "metadata": {},
     "output_type": "display_data"
    }
   ],
   "source": [
    "# 직선을 그래프로 그려보자\n",
    "\n",
    "plt.scatter(train_data, train_target)\n",
    "plt.plot([15, 100], [15 * lr.coef_ + lr.intercept_, 100 * lr.coef_ + lr.intercept_])\n",
    "        # 구한 직선의 방정식을 y = f(x)라고 한다면, 직선은 두 점 (15, f(15))와 (100, f(100))을 연결하는 직선일 것.\n",
    "plt.scatter(100, 3192, marker = '^')\n",
    "plt.show()"
   ]
  },
  {
   "cell_type": "code",
   "execution_count": 12,
   "id": "543ee447",
   "metadata": {},
   "outputs": [
    {
     "name": "stdout",
     "output_type": "stream",
     "text": [
      "0.939846333997604\n",
      "0.8247503123313558\n"
     ]
    }
   ],
   "source": [
    "print(lr.score(train_data, train_target)) # 모델 학습이 잘 되었는지 훈련 세트와 테스트 세트를 전달해 정확도 점수를 산출.\n",
    "print(lr.score(test_data, test_target))"
   ]
  },
  {
   "cell_type": "markdown",
   "id": "758829f7",
   "metadata": {},
   "source": [
    "- 모델 학습이 잘 되었는지 훈련 세트와 테스트 세트를 전달해 정확도 점수를 산출.\n",
    "```print(lr.score(train_data, train_target)) ``` <br>\n",
    "0.939846333997604 <br>\n",
    "```print(lr.score(test_data, test_target))```<br>\n",
    "0.8247503123313558 <br>\n",
    "\n",
    "- 두 세트에 대한 훈련 모델의 R2 점수에 차이가 있을 뿐더러, 훈련 세트의 점수도 그렇게 높지 않다.\n",
    "- 이유: 실제 농어의 데이터는 직선보다는 곡선에 가깝기 때문."
   ]
  },
  {
   "cell_type": "markdown",
   "id": "116c932b",
   "metadata": {},
   "source": [
    "## Polynomial Regression (다향 회귀)\n",
    "- 다항식을 사용한 선형 회귀\n",
    "- 다중 회귀는 2개 이상의 독립 변수가 존재하는 형태\n",
    "- **다항 회귀**는 1개의 독립 변수를 이용해 차수를 높이는 형태\n",
    "### 최적의 곡선을 찾기\n",
    "- 2차 방정식 구한다.\n",
    "    - 길이를 제곱한 항 추가\n",
    "    - ```np.column_stack(([a, b]))``` : 두 개의 1차원 배열을 칼럼으로 세로(열 방향)로 붙여서 2차원 배열 만드는 넘파이 기능"
   ]
  },
  {
   "cell_type": "code",
   "execution_count": 13,
   "id": "555b535e",
   "metadata": {},
   "outputs": [],
   "source": [
    "train_poly = np.column_stack((train_data**2, train_data)) # (1열 = 길이의 제곱, 2열 = 길이)의 2차원 배열을 train_poly에 assign\n",
    "test_poly = np.column_stack((test_data**2, test_data)) # (1열 = 길이의 제곱, 2열 = 길이)의 2차원 배열을 test_poly에 assign"
   ]
  },
  {
   "cell_type": "code",
   "execution_count": 14,
   "id": "f1e29c3a",
   "metadata": {},
   "outputs": [
    {
     "name": "stdout",
     "output_type": "stream",
     "text": [
      "[  1.01433211 -21.55792498] 116.05021078278259\n"
     ]
    }
   ],
   "source": [
    "# 선형 회귀 모델 재학습\n",
    "lr = LinearRegression()\n",
    "lr.fit(train_poly, train_target)\n",
    "print(lr.coef_, lr.intercept_)\n",
    "    # y = (lr.coef_)x**2 + (lr.intercept_)의 곡선을 구한다."
   ]
  },
  {
   "cell_type": "code",
   "execution_count": 15,
   "id": "0c5cc035",
   "metadata": {},
   "outputs": [
    {
     "name": "stdout",
     "output_type": "stream",
     "text": [
      "[8103.57880667]\n"
     ]
    }
   ],
   "source": [
    "print(lr.predict([[100**2, 100]])) # 길이 100의 농어 무게를 예측해보자.\n",
    "        # 훈련할 때 (길이의 제곱, 길이)를 넣고 훈련했으니 예측할 때에도 길이의 제곱 값을 함께 넣어주어야 한다!"
   ]
  },
  {
   "cell_type": "code",
   "execution_count": 16,
   "id": "c41ac54a",
   "metadata": {},
   "outputs": [
    {
     "name": "stdout",
     "output_type": "stream",
     "text": [
      "0.9706807451768623\n",
      "0.9775935108325121\n"
     ]
    }
   ],
   "source": [
    "# output = 8103\n",
    "# 단순 선형 회귀를 사용했을 때 나온 값, 약 3192보다 더 높은 값을 예측했다.\n",
    "\n",
    "print(lr.score(train_poly, train_target))\n",
    "print(lr.score(test_poly, test_target)) # 모델이 적절하게 훈련이 되었는지 확인"
   ]
  },
  {
   "cell_type": "markdown",
   "id": "a64c5e28",
   "metadata": {},
   "source": [
    "```print(lr.score(train_poly, train_target)) ``` <br>\n",
    "0.9706807451768623 <br>\n",
    "```print(lr.score(test_poly, test_target))```<br>\n",
    "0.9775935108325121 <br>\n",
    "\n",
    "- 약간의 과소적합이 남아있지만, 점수가 높아진 것 확인 할 수 있음.\n",
    "- 훈련 세트 점수가 더 높으면 overfitting, 테스트 세트 점수가 더 높으면 underfitting"
   ]
  },
  {
   "cell_type": "code",
   "execution_count": 17,
   "id": "35c56523",
   "metadata": {},
   "outputs": [
    {
     "name": "stdout",
     "output_type": "stream",
     "text": [
      "[  1.01433211 -21.55792498] 116.05021078278259\n"
     ]
    }
   ],
   "source": [
    "print(lr.coef_, lr.intercept_)"
   ]
  },
  {
   "cell_type": "code",
   "execution_count": 18,
   "id": "8978c361",
   "metadata": {},
   "outputs": [
    {
     "data": {
      "image/png": "[encoded data removed]",
      "text/plain": [
       "<Figure size 640x480 with 1 Axes>"
      ]
     },
     "metadata": {},
     "output_type": "display_data"
    }
   ],
   "source": [
    "# 훈련이 잘 되었는지 그래프로 시각화해서 보자\n",
    "\n",
    "point = np.arange(15 ,100) # 구간별 직선을 그리기 위해 15에서 99 까지 정수 배열을 만든다\n",
    "plt.scatter(train_data, train_target)\n",
    "plt.plot(point, 1.01 * point**2 - 21.6 * point + 116.05) # 15에서 99까지 2차 방정식 그래프를 그린다.\n",
    "                # (lr.coef_) * point**2 - (lr.coef_) * point + (lr.intercept_)\n",
    "plt.xlabel('length')\n",
    "plt.ylabel('weight')\n",
    "plt.scatter([100], [8103], marker = '^')\n",
    "# plt.scatter(100, 8103, marker = '^')\n",
    "plt.show()"
   ]
  },
  {
   "cell_type": "markdown",
   "id": "5fd7c688",
   "metadata": {},
   "source": [
    "선형 회귀보다 r^2 값이 더 높게 나왔으므로 다항 회귀 모델이 더 적합. 하지만 여전히 과소적합 문제는 해결되지 않았다."
   ]
  },
  {
   "cell_type": "code",
   "execution_count": null,
   "id": "a88035c1",
   "metadata": {},
   "outputs": [],
   "source": []
  }
 ],
 "metadata": {
  "kernelspec": {
   "display_name": "Python 3 (ipykernel)",
   "language": "python",
   "name": "python3"
  },
  "language_info": {
   "codemirror_mode": {
    "name": "ipython",
    "version": 3
   },
   "file_extension": ".py",
   "mimetype": "text/x-python",
   "name": "python",
   "nbconvert_exporter": "python",
   "pygments_lexer": "ipython3",
   "version": "3.10.9"
  }
 },
 "nbformat": 4,
 "nbformat_minor": 5
}
