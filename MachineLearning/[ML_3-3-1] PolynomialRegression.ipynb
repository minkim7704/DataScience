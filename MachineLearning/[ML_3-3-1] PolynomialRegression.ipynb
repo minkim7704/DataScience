{
 "cells": [
  {
   "cell_type": "markdown",
   "id": "aa3b069f",
   "metadata": {},
   "source": [
    "# Polynomial Regression (다항 회귀)\n",
    "\n",
    "- 데이터를 표현함에 있어서 선형이 아닌 <U>곡선</U> 으로 나타나는 경우에 사용한다.\n",
    "- 다항 회귀는 '항(차수, degree)'이 많다는 것.\n",
    "<br> <br>\n",
    "- 차수를 높이면 기존 모델보다 더 적은 오차를 만들어 낸다는 장점 ( $ R^2 $ 값 증가)\n",
    "- 다항회귀는 1개의 독립 변수를 이용해 **차수(degree)** 를 높인다.\n",
    "- feature에 대한 데이터를 변형시켜 다항으로 표현 ( $ W_1 * f + W_2 * f^2 + ... + b $ )"
   ]
  },
  {
   "cell_type": "markdown",
   "id": "34c24dd2",
   "metadata": {},
   "source": [
    "## 데이터 준비"
   ]
  },
  {
   "cell_type": "code",
   "execution_count": 1,
   "id": "4bcf781c",
   "metadata": {},
   "outputs": [],
   "source": [
    "import numpy as np\n",
    "\n",
    "perch_length = np.array(\n",
    "    [8.4, 13.7, 15.0, 16.2, 17.4, 18.0, 18.7, 19.0, 19.6, 20.0, \n",
    "     21.0, 21.0, 21.0, 21.3, 22.0, 22.0, 22.0, 22.0, 22.0, 22.5, \n",
    "     22.5, 22.7, 23.0, 23.5, 24.0, 24.0, 24.6, 25.0, 25.6, 26.5, \n",
    "     27.3, 27.5, 27.5, 27.5, 28.0, 28.7, 30.0, 32.8, 34.5, 35.0, \n",
    "     36.5, 36.0, 37.0, 37.0, 39.0, 39.0, 39.0, 40.0, 40.0, 40.0, \n",
    "     40.0, 42.0, 43.0, 43.0, 43.5, 44.0]\n",
    "     ) # 농어 길이에 해당하는 값의 리스트 - np.array에 전달\n",
    "\n",
    "perch_weight = np.array(\n",
    "    [5.9, 32.0, 40.0, 51.5, 70.0, 100.0, 78.0, 80.0, 85.0, 85.0, \n",
    "     110.0, 115.0, 125.0, 130.0, 120.0, 120.0, 130.0, 135.0, 110.0, \n",
    "     130.0, 150.0, 145.0, 150.0, 170.0, 225.0, 145.0, 188.0, 180.0, \n",
    "     197.0, 218.0, 300.0, 260.0, 265.0, 250.0, 250.0, 300.0, 320.0, \n",
    "     514.0, 556.0, 840.0, 685.0, 700.0, 700.0, 690.0, 900.0, 650.0, \n",
    "     820.0, 850.0, 900.0, 1015.0, 820.0, 1100.0, 1000.0, 1100.0, \n",
    "     1000.0, 1000.0]\n",
    "     ) # 농어 무게에 해당하는 값의 리스트 - np.array에 전달"
   ]
  },
  {
   "cell_type": "code",
   "execution_count": 2,
   "id": "b7f8f72f",
   "metadata": {},
   "outputs": [
    {
     "name": "stdout",
     "output_type": "stream",
     "text": [
      "(42,) (14,)\n",
      "[19.6 22.  18.7 17.4 36.  25.  40.  39.  43.  22.  20.  22.  24.  27.5\n",
      " 43.  40.  24.  21.  27.5 40.  32.8 26.5 36.5 13.7 22.7 15.  37.  35.\n",
      " 28.7 23.5 39.  21.  23.  22.  44.  22.5 19.  37.  22.  25.6 42.  34.5]\n",
      "[ 8.4 18.  27.5 21.3 22.5 40.  30.  24.6 39.  21.  43.5 16.2 28.  27.3]\n"
     ]
    }
   ],
   "source": [
    "from sklearn.model_selection import train_test_split\n",
    "    # 훈련/ 테스트 세트 나누기 위해 scikit-learn에서 train_test_split 호출\n",
    "\n",
    "train_X, test_X, train_y, test_y = train_test_split(perch_length, perch_weight, random_state = 42)\n",
    "    # 훈련/ 테스트 세트 나누기\n",
    "    # X (feature) = length, y (target) = weight\n",
    "\n",
    "print(train_X.shape, test_X.shape) # 기존 데이터가 1차원 배열이었기 때문에 1차원 배열의 훈련/테스트 데이터\n",
    "print(train_X, test_X, sep = '\\n') # 확인"
   ]
  },
  {
   "cell_type": "markdown",
   "id": "67f7f751",
   "metadata": {},
   "source": [
    "**머신러닝에서 column = target (y 값), row = feature data (X 값)으로 보기 때문에, target data (y)는 1차원 배열, feature data (X 값)는 2차원 배열을 가져야 한다.**"
   ]
  },
  {
   "cell_type": "code",
   "execution_count": 3,
   "id": "05d871df",
   "metadata": {},
   "outputs": [
    {
     "name": "stdout",
     "output_type": "stream",
     "text": [
      "(42, 1) (14, 1)\n"
     ]
    }
   ],
   "source": [
    "train_X = train_X.reshape(-1, 1) # 2차원 배열로 reshape\n",
    "test_X = test_X.reshape(-1, 1)\n",
    "\n",
    "print(train_X.shape, test_X.shape) # 2차원 배열 확인"
   ]
  },
  {
   "cell_type": "code",
   "execution_count": 4,
   "id": "efce5ad7",
   "metadata": {},
   "outputs": [
    {
     "data": {
      "image/png": "[encoded data removed]",
      "text/plain": [
       "<Figure size 640x480 with 1 Axes>"
      ]
     },
     "metadata": {},
     "output_type": "display_data"
    }
   ],
   "source": [
    "import matplotlib.pyplot as plt\n",
    "\n",
    "plt.scatter(train_X, train_y)\n",
    "plt.xlabel('length')\n",
    "plt.ylabel('weight')\n",
    "plt.show() # 그래프가 곡선 형태인 것 확인"
   ]
  },
  {
   "cell_type": "markdown",
   "id": "6d09f059",
   "metadata": {},
   "source": [
    "## 모델학습"
   ]
  },
  {
   "cell_type": "code",
   "execution_count": 5,
   "id": "2d989d39",
   "metadata": {},
   "outputs": [
    {
     "name": "stdout",
     "output_type": "stream",
     "text": [
      "(42, 1) (14, 1)\n"
     ]
    }
   ],
   "source": [
    "from sklearn.linear_model import LinearRegression\n",
    "    # 다항회귀 사용할 때에도 선형회귀 호출!\n",
    "\n",
    "# 차수를 높일 때 특징으로 존재하는 독립변수를 제곱한 항을 데이터에 추가해야 한다.\n",
    "# 지금의 경우에는 '길이'를 이용해 '무게'를 예측할 것이니까 '길이'를 제곱한 항을 추가해야 한다.\n",
    "# np.column_stack(([a, b])): 두 개의 1차원 배열을 칼럼/세로/열 방향으로 붙여서 2차원 배열로 만드는 넘파이 기능\n",
    "\n",
    "train_poly = np.column_stack((train_X**2, train_X))\n",
    "test_poly = np.column_stack((test_X**2, test_X))\n",
    "\n",
    "print(train_X.shape, test_X.shape)"
   ]
  },
  {
   "cell_type": "code",
   "execution_count": 6,
   "id": "37c1747f",
   "metadata": {},
   "outputs": [
    {
     "data": {
      "text/html": [
       "<style>#sk-container-id-1 {color: black;background-color: white;}#sk-container-id-1 pre{padding: 0;}#sk-container-id-1 div.sk-toggleable {background-color: white;}#sk-container-id-1 label.sk-toggleable__label {cursor: pointer;display: block;width: 100%;margin-bottom: 0;padding: 0.3em;box-sizing: border-box;text-align: center;}#sk-container-id-1 label.sk-toggleable__label-arrow:before {content: \"▸\";float: left;margin-right: 0.25em;color: #696969;}#sk-container-id-1 label.sk-toggleable__label-arrow:hover:before {color: black;}#sk-container-id-1 div.sk-estimator:hover label.sk-toggleable__label-arrow:before {color: black;}#sk-container-id-1 div.sk-toggleable__content {max-height: 0;max-width: 0;overflow: hidden;text-align: left;background-color: #f0f8ff;}#sk-container-id-1 div.sk-toggleable__content pre {margin: 0.2em;color: black;border-radius: 0.25em;background-color: #f0f8ff;}#sk-container-id-1 input.sk-toggleable__control:checked~div.sk-toggleable__content {max-height: 200px;max-width: 100%;overflow: auto;}#sk-container-id-1 input.sk-toggleable__control:checked~label.sk-toggleable__label-arrow:before {content: \"▾\";}#sk-container-id-1 div.sk-estimator input.sk-toggleable__control:checked~label.sk-toggleable__label {background-color: #d4ebff;}#sk-container-id-1 div.sk-label input.sk-toggleable__control:checked~label.sk-toggleable__label {background-color: #d4ebff;}#sk-container-id-1 input.sk-hidden--visually {border: 0;clip: rect(1px 1px 1px 1px);clip: rect(1px, 1px, 1px, 1px);height: 1px;margin: -1px;overflow: hidden;padding: 0;position: absolute;width: 1px;}#sk-container-id-1 div.sk-estimator {font-family: monospace;background-color: #f0f8ff;border: 1px dotted black;border-radius: 0.25em;box-sizing: border-box;margin-bottom: 0.5em;}#sk-container-id-1 div.sk-estimator:hover {background-color: #d4ebff;}#sk-container-id-1 div.sk-parallel-item::after {content: \"\";width: 100%;border-bottom: 1px solid gray;flex-grow: 1;}#sk-container-id-1 div.sk-label:hover label.sk-toggleable__label {background-color: #d4ebff;}#sk-container-id-1 div.sk-serial::before {content: \"\";position: absolute;border-left: 1px solid gray;box-sizing: border-box;top: 0;bottom: 0;left: 50%;z-index: 0;}#sk-container-id-1 div.sk-serial {display: flex;flex-direction: column;align-items: center;background-color: white;padding-right: 0.2em;padding-left: 0.2em;position: relative;}#sk-container-id-1 div.sk-item {position: relative;z-index: 1;}#sk-container-id-1 div.sk-parallel {display: flex;align-items: stretch;justify-content: center;background-color: white;position: relative;}#sk-container-id-1 div.sk-item::before, #sk-container-id-1 div.sk-parallel-item::before {content: \"\";position: absolute;border-left: 1px solid gray;box-sizing: border-box;top: 0;bottom: 0;left: 50%;z-index: -1;}#sk-container-id-1 div.sk-parallel-item {display: flex;flex-direction: column;z-index: 1;position: relative;background-color: white;}#sk-container-id-1 div.sk-parallel-item:first-child::after {align-self: flex-end;width: 50%;}#sk-container-id-1 div.sk-parallel-item:last-child::after {align-self: flex-start;width: 50%;}#sk-container-id-1 div.sk-parallel-item:only-child::after {width: 0;}#sk-container-id-1 div.sk-dashed-wrapped {border: 1px dashed gray;margin: 0 0.4em 0.5em 0.4em;box-sizing: border-box;padding-bottom: 0.4em;background-color: white;}#sk-container-id-1 div.sk-label label {font-family: monospace;font-weight: bold;display: inline-block;line-height: 1.2em;}#sk-container-id-1 div.sk-label-container {text-align: center;}#sk-container-id-1 div.sk-container {/* jupyter's `normalize.less` sets `[hidden] { display: none; }` but bootstrap.min.css set `[hidden] { display: none !important; }` so we also need the `!important` here to be able to override the default hidden behavior on the sphinx rendered scikit-learn.org. See: https://github.com/scikit-learn/scikit-learn/issues/21755 */display: inline-block !important;position: relative;}#sk-container-id-1 div.sk-text-repr-fallback {display: none;}</style><div id=\"sk-container-id-1\" class=\"sk-top-container\"><div class=\"sk-text-repr-fallback\"><pre>LinearRegression()</pre><b>In a Jupyter environment, please rerun this cell to show the HTML representation or trust the notebook. <br />On GitHub, the HTML representation is unable to render, please try loading this page with nbviewer.org.</b></div><div class=\"sk-container\" hidden><div class=\"sk-item\"><div class=\"sk-estimator sk-toggleable\"><input class=\"sk-toggleable__control sk-hidden--visually\" id=\"sk-estimator-id-1\" type=\"checkbox\" checked><label for=\"sk-estimator-id-1\" class=\"sk-toggleable__label sk-toggleable__label-arrow\">LinearRegression</label><div class=\"sk-toggleable__content\"><pre>LinearRegression()</pre></div></div></div></div></div>"
      ],
      "text/plain": [
       "LinearRegression()"
      ]
     },
     "execution_count": 6,
     "metadata": {},
     "output_type": "execute_result"
    }
   ],
   "source": [
    "lr = LinearRegression() # 모델 객체 정의\n",
    "lr.fit(train_poly, train_y) # 모델 학습"
   ]
  },
  {
   "cell_type": "code",
   "execution_count": 7,
   "id": "0774a8f1",
   "metadata": {},
   "outputs": [
    {
     "name": "stdout",
     "output_type": "stream",
     "text": [
      "[8103.57880667]\n"
     ]
    }
   ],
   "source": [
    "print(lr.predict([[100**2, 100]])) # 길이 100cm의 농어 몸무게 예측하기\n",
    "    # 다항 회귀에서 특징을 제곱한 항을 추가해주었기 때문에 예측할 때에도 [[특징값을 제곱한 항, 특징값]] 넣어주기"
   ]
  },
  {
   "cell_type": "code",
   "execution_count": 8,
   "id": "efd3e759",
   "metadata": {},
   "outputs": [
    {
     "name": "stdout",
     "output_type": "stream",
     "text": [
      "0.9706807451768623\n",
      "0.9775935108325121\n"
     ]
    }
   ],
   "source": [
    "print(lr.score(train_poly, train_y))\n",
    "print(lr.score(test_poly, test_y))\n",
    "\n",
    "# 모델 정확도 비교하기 위해 훈련/테스트 세트의 정확도 확인"
   ]
  },
  {
   "cell_type": "markdown",
   "id": "abbbed42",
   "metadata": {},
   "source": [
    "**테스트 세트가 더 높은 점수로 나와 약간의 과소적합**"
   ]
  },
  {
   "cell_type": "code",
   "execution_count": 9,
   "id": "8158520b",
   "metadata": {},
   "outputs": [
    {
     "name": "stdout",
     "output_type": "stream",
     "text": [
      "[  1.01433211 -21.55792498] 116.05021078278259\n"
     ]
    }
   ],
   "source": [
    "print(lr.coef_, lr.intercept_) # y = (lr.coef_)x**2 + (lr.coef_)x + (lr.intercept_)의 곡선을 구할 것"
   ]
  },
  {
   "cell_type": "code",
   "execution_count": 10,
   "id": "b5a0b300",
   "metadata": {},
   "outputs": [
    {
     "name": "stdout",
     "output_type": "stream",
     "text": [
      "(42, 2) (42,)\n"
     ]
    }
   ],
   "source": [
    "print(train_poly.shape, train_y.shape)"
   ]
  },
  {
   "cell_type": "code",
   "execution_count": 11,
   "id": "2edacf63",
   "metadata": {},
   "outputs": [
    {
     "data": {
      "image/png": "[encoded data removed]",
      "text/plain": [
       "<Figure size 640x480 with 1 Axes>"
      ]
     },
     "metadata": {},
     "output_type": "display_data"
    }
   ],
   "source": [
    "# 그래프 그려보기\n",
    "\n",
    "point = np.arange(15, 100) # 구간별 직선을 그리기 위해 15부터 99까지의 정수 배열 만들기\n",
    "plt.scatter(train_X, train_y)\n",
    "plt.plot(point, 1.01 * point**2 + (-21.6) * point + 116.05) # 15에서 99까지 2차 방정식 그래프 그리기\n",
    "        # plt.plot(x, y)\n",
    "        # x = point\n",
    "        # y = (lr.coef_)x**2 + (lr.coef_)x + (lr.intercept_)\n",
    "plt.xlabel('length')\n",
    "plt.ylabel('weight')\n",
    "plt.scatter(100, 8103, marker = '^')\n",
    "plt.show()"
   ]
  },
  {
   "cell_type": "markdown",
   "id": "817b7cce",
   "metadata": {},
   "source": [
    "**위의 다항회귀 예시에서 생선의 길이라는 하나의 특징에 차수를 부여해 하나의 특징을 더 만들어냈다. 이처럼 차수가 1인 생선의 길이라는 단순한 특징을 제곱하여 또 다른 특징을 만들어 낼 수 있다.**\n",
    "- 여러 특징이 있을 때 정확도 높아진다.\n",
    "- 너무 많은 차수를 사용하면 overfitting 가능성 높아질 수 있다.\n",
    "- overfitting 막으면서 차수를 적절히 조절할 수 있는 Ridge, Lasso라는 규제 클래스가 있다."
   ]
  },
  {
   "cell_type": "code",
   "execution_count": null,
   "id": "ab91a4da",
   "metadata": {},
   "outputs": [],
   "source": []
  },
  {
   "cell_type": "code",
   "execution_count": null,
   "id": "393ebd54",
   "metadata": {},
   "outputs": [],
   "source": []
  },
  {
   "cell_type": "code",
   "execution_count": null,
   "id": "ae8cf1d4",
   "metadata": {},
   "outputs": [],
   "source": []
  },
  {
   "cell_type": "code",
   "execution_count": null,
   "id": "83e99f4d",
   "metadata": {},
   "outputs": [],
   "source": []
  },
  {
   "cell_type": "markdown",
   "id": "8a079cb4",
   "metadata": {},
   "source": [
    "## 연습"
   ]
  },
  {
   "cell_type": "code",
   "execution_count": 31,
   "id": "b7251380",
   "metadata": {},
   "outputs": [],
   "source": [
    "import numpy as np\n",
    "\n",
    "perch_length = np.array(\n",
    "    [8.4, 13.7, 15.0, 16.2, 17.4, 18.0, 18.7, 19.0, 19.6, 20.0, \n",
    "     21.0, 21.0, 21.0, 21.3, 22.0, 22.0, 22.0, 22.0, 22.0, 22.5, \n",
    "     22.5, 22.7, 23.0, 23.5, 24.0, 24.0, 24.6, 25.0, 25.6, 26.5, \n",
    "     27.3, 27.5, 27.5, 27.5, 28.0, 28.7, 30.0, 32.8, 34.5, 35.0, \n",
    "     36.5, 36.0, 37.0, 37.0, 39.0, 39.0, 39.0, 40.0, 40.0, 40.0, \n",
    "     40.0, 42.0, 43.0, 43.0, 43.5, 44.0]\n",
    "     ) # 농어 길이에 해당하는 값의 리스트 - np.array에 전달\n",
    "\n",
    "perch_weight = np.array(\n",
    "    [5.9, 32.0, 40.0, 51.5, 70.0, 100.0, 78.0, 80.0, 85.0, 85.0, \n",
    "     110.0, 115.0, 125.0, 130.0, 120.0, 120.0, 130.0, 135.0, 110.0, \n",
    "     130.0, 150.0, 145.0, 150.0, 170.0, 225.0, 145.0, 188.0, 180.0, \n",
    "     197.0, 218.0, 300.0, 260.0, 265.0, 250.0, 250.0, 300.0, 320.0, \n",
    "     514.0, 556.0, 840.0, 685.0, 700.0, 700.0, 690.0, 900.0, 650.0, \n",
    "     820.0, 850.0, 900.0, 1015.0, 820.0, 1100.0, 1000.0, 1100.0, \n",
    "     1000.0, 1000.0]\n",
    "     ) # 농어 무게에 해당하는 값의 리스트 - np.array에 전달"
   ]
  },
  {
   "cell_type": "code",
   "execution_count": 32,
   "id": "4280f979",
   "metadata": {},
   "outputs": [
    {
     "name": "stdout",
     "output_type": "stream",
     "text": [
      "(42, 1) (14, 1)\n"
     ]
    }
   ],
   "source": [
    "from sklearn.model_selection import train_test_split\n",
    "\n",
    "train_data, test_data, train_target, test_target = train_test_split(perch_length, perch_weight, random_state = 42)\n",
    "\n",
    "train_data = train_data.reshape(-1, 1)\n",
    "test_data = test_data.reshape(-1, 1)\n",
    "\n",
    "print(train_data.shape, test_data.shape)"
   ]
  },
  {
   "cell_type": "code",
   "execution_count": 33,
   "id": "fca92a56",
   "metadata": {},
   "outputs": [
    {
     "data": {
      "text/plain": [
       "0.939846333997604"
      ]
     },
     "execution_count": 33,
     "metadata": {},
     "output_type": "execute_result"
    }
   ],
   "source": [
    "from sklearn.linear_model import LinearRegression\n",
    "\n",
    "lr = LinearRegression()\n",
    "lr.fit(train_data, train_target)\n",
    "lr.score(train_data, train_target)"
   ]
  },
  {
   "cell_type": "code",
   "execution_count": 34,
   "id": "c7a4314e",
   "metadata": {},
   "outputs": [
    {
     "data": {
      "text/plain": [
       "0.8247503123313558"
      ]
     },
     "execution_count": 34,
     "metadata": {},
     "output_type": "execute_result"
    }
   ],
   "source": [
    "lr.score(test_data, test_target)"
   ]
  },
  {
   "cell_type": "code",
   "execution_count": 36,
   "id": "fa26e931",
   "metadata": {},
   "outputs": [
    {
     "data": {
      "text/plain": [
       "array([1241.83860323])"
      ]
     },
     "execution_count": 36,
     "metadata": {},
     "output_type": "execute_result"
    }
   ],
   "source": [
    "lr.predict([[50]])"
   ]
  },
  {
   "cell_type": "code",
   "execution_count": 37,
   "id": "dcd140c7",
   "metadata": {},
   "outputs": [
    {
     "data": {
      "image/png": "[encoded data removed]",
      "text/plain": [
       "<Figure size 640x480 with 1 Axes>"
      ]
     },
     "metadata": {},
     "output_type": "display_data"
    }
   ],
   "source": [
    "import matplotlib.pyplot as plt\n",
    "\n",
    "plt.scatter(train_data, train_target)\n",
    "plt.plot([15, 50], [lr.coef_ * 15 + lr.intercept_, lr.coef_ * 50 + lr.intercept_])\n",
    "plt.scatter(50, 1241, marker = '^')\n",
    "plt.show()"
   ]
  },
  {
   "cell_type": "code",
   "execution_count": 40,
   "id": "e1244cad",
   "metadata": {},
   "outputs": [],
   "source": [
    "train_poly = np.column_stack((train_data**2, train_data))\n",
    "test_poly = np.column_stack((test_data**2, test_data))"
   ]
  },
  {
   "cell_type": "code",
   "execution_count": 41,
   "id": "dd6362d8",
   "metadata": {},
   "outputs": [
    {
     "data": {
      "text/plain": [
       "0.9706807451768623"
      ]
     },
     "execution_count": 41,
     "metadata": {},
     "output_type": "execute_result"
    }
   ],
   "source": [
    "lr.fit(train_poly, train_target)\n",
    "lr.score(train_poly, train_target)"
   ]
  },
  {
   "cell_type": "code",
   "execution_count": 42,
   "id": "a80231c6",
   "metadata": {},
   "outputs": [
    {
     "data": {
      "text/plain": [
       "0.9775935108325121"
      ]
     },
     "execution_count": 42,
     "metadata": {},
     "output_type": "execute_result"
    }
   ],
   "source": [
    "lr.score(test_poly, test_target)"
   ]
  },
  {
   "cell_type": "code",
   "execution_count": 44,
   "id": "bc43df1c",
   "metadata": {},
   "outputs": [
    {
     "data": {
      "text/plain": [
       "array([1573.98423528])"
      ]
     },
     "execution_count": 44,
     "metadata": {},
     "output_type": "execute_result"
    }
   ],
   "source": [
    "lr.predict([[50**2, 50]])"
   ]
  },
  {
   "cell_type": "code",
   "execution_count": 46,
   "id": "ea9bfd99",
   "metadata": {},
   "outputs": [
    {
     "name": "stdout",
     "output_type": "stream",
     "text": [
      "[  1.01433211 -21.55792498] 116.05021078278259\n"
     ]
    }
   ],
   "source": [
    "print(lr.coef_, lr.intercept_)"
   ]
  },
  {
   "cell_type": "code",
   "execution_count": 47,
   "id": "dd3543e4",
   "metadata": {},
   "outputs": [
    {
     "data": {
      "text/plain": [
       "<matplotlib.collections.PathCollection at 0x7ff1094a1930>"
      ]
     },
     "execution_count": 47,
     "metadata": {},
     "output_type": "execute_result"
    },
    {
     "data": {
      "image/png": "[encoded data removed]",
      "text/plain": [
       "<Figure size 640x480 with 1 Axes>"
      ]
     },
     "metadata": {},
     "output_type": "display_data"
    }
   ],
   "source": [
    "point = np.arange(15, 50)\n",
    "plt.scatter(train_data, train_target)\n",
    "plt.plot(point, 1.01 * point**2 + (-21.6) * point + 116.05)\n",
    "plt.scatter(50, 1573, marker = '^')"
   ]
  },
  {
   "cell_type": "code",
   "execution_count": null,
   "id": "ca43d44c",
   "metadata": {},
   "outputs": [],
   "source": []
  }
 ],
 "metadata": {
  "kernelspec": {
   "display_name": "Python 3 (ipykernel)",
   "language": "python",
   "name": "python3"
  },
  "language_info": {
   "codemirror_mode": {
    "name": "ipython",
    "version": 3
   },
   "file_extension": ".py",
   "mimetype": "text/x-python",
   "name": "python",
   "nbconvert_exporter": "python",
   "pygments_lexer": "ipython3",
   "version": "3.10.9"
  }
 },
 "nbformat": 4,
 "nbformat_minor": 5
}
