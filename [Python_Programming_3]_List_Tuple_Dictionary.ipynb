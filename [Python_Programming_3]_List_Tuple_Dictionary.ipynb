{
  "cells": [
    {
      "cell_type": "markdown",
      "metadata": {
        "id": "view-in-github",
        "colab_type": "text"
      },
      "source": [
        "<a href=\"https://colab.research.google.com/github/minkim7704/DataScience/blob/main/%5BPython_Programming_3%5D_List_Tuple_Dictionary.ipynb\" target=\"_parent\"><img src=\"https://colab.research.google.com/assets/colab-badge.svg\" alt=\"Open In Colab\"/></a>"
      ]
    },
    {
      "cell_type": "markdown",
      "id": "9529b1af",
      "metadata": {
        "id": "9529b1af"
      },
      "source": [
        "# List"
      ]
    },
    {
      "cell_type": "code",
      "execution_count": 1,
      "id": "87a97d3e",
      "metadata": {
        "id": "87a97d3e"
      },
      "outputs": [],
      "source": [
        "list = []\n",
        "list = [1, ['a', 'A', 1.23], 'a', 'A', True] # list in list "
      ]
    },
    {
      "cell_type": "code",
      "execution_count": 2,
      "id": "c6478e0f",
      "metadata": {
        "colab": {
          "base_uri": "https://localhost:8080/"
        },
        "id": "c6478e0f",
        "outputId": "8a485354-d30b-4cc9-91e8-7e7c5648d298"
      },
      "outputs": [
        {
          "output_type": "execute_result",
          "data": {
            "text/plain": [
              "['a', 'A', 1.23]"
            ]
          },
          "metadata": {},
          "execution_count": 2
        }
      ],
      "source": [
        "list[1]"
      ]
    },
    {
      "cell_type": "code",
      "execution_count": 3,
      "id": "29b6f223",
      "metadata": {
        "colab": {
          "base_uri": "https://localhost:8080/",
          "height": 36
        },
        "id": "29b6f223",
        "outputId": "84c82fa6-a0ef-4395-c98f-bb0dd0c175c9"
      },
      "outputs": [
        {
          "output_type": "execute_result",
          "data": {
            "text/plain": [
              "'A'"
            ],
            "application/vnd.google.colaboratory.intrinsic+json": {
              "type": "string"
            }
          },
          "metadata": {},
          "execution_count": 3
        }
      ],
      "source": [
        "list[1][1] # 'A' in the list[1]"
      ]
    },
    {
      "cell_type": "markdown",
      "id": "cc799c25",
      "metadata": {
        "id": "cc799c25"
      },
      "source": [
        "#### 051 리스트 생성\n",
        "2016년 11월 영화 예매 순위 기준 top3는 다음과 같습니다.  <br/>\n",
        "영화 제목을 movie_rank 이름의 리스트에 저장해보세요.  <br/>\n",
        "(순위 정보는 저장하지 않습니다.) <br/>\n",
        " <br/>\n",
        "영화 순위\t <br/>\n",
        "1 닥터 스트레인지 <br/>\n",
        "2 스플릿 <br/>\n",
        "3 럭키"
      ]
    },
    {
      "cell_type": "code",
      "execution_count": 4,
      "id": "ed6cba2f",
      "metadata": {
        "id": "ed6cba2f",
        "colab": {
          "base_uri": "https://localhost:8080/"
        },
        "outputId": "523be15c-fa91-4935-f6be-93fba9567e77"
      },
      "outputs": [
        {
          "output_type": "execute_result",
          "data": {
            "text/plain": [
              "['닥터 스트레인지', '스플릿', '럭키']"
            ]
          },
          "metadata": {},
          "execution_count": 4
        }
      ],
      "source": [
        "movie_rank = []\n",
        "\n",
        "movie_rank.append('닥터 스트레인지')\n",
        "movie_rank.append('스플릿')\n",
        "movie_rank.append('럭키')\n",
        "# movie.rank.extend(['닥터 스트레인지', '스플릿', '럭키'])\n",
        "\n",
        "movie_rank"
      ]
    },
    {
      "cell_type": "markdown",
      "id": "00d410e8",
      "metadata": {
        "id": "00d410e8"
      },
      "source": [
        "#### 052 리스트에 원소 추가\n",
        "051의 movie_rank 리스트에 \"배트맨\"을 추가하라."
      ]
    },
    {
      "cell_type": "code",
      "execution_count": 5,
      "id": "45a15894",
      "metadata": {
        "id": "45a15894",
        "colab": {
          "base_uri": "https://localhost:8080/"
        },
        "outputId": "8957aa41-6f08-4936-bbe1-e04764d26d63"
      },
      "outputs": [
        {
          "output_type": "execute_result",
          "data": {
            "text/plain": [
              "['닥터 스트레인지', '스플릿', '럭키', '배트맨']"
            ]
          },
          "metadata": {},
          "execution_count": 5
        }
      ],
      "source": [
        "movie_rank.append('배트맨')\n",
        "# movie.rank.extend(['배트맨'])\n",
        "\n",
        "movie_rank"
      ]
    },
    {
      "cell_type": "markdown",
      "id": "555a0e13",
      "metadata": {
        "id": "555a0e13"
      },
      "source": [
        "#### 053 movie_rank 리스트에는 아래와 같이 네 개의 영화 제목이 바인딩되어 있다.   <br/>\n",
        "\"슈퍼맨\"을 \"닥터 스트레인지\"와 \"스플릿\" 사이에 추가하라.  <br/>\n",
        "  <br/>\n",
        "movie_rank = ['닥터 스트레인지', '스플릿', '럭키', '배트맨']"
      ]
    },
    {
      "cell_type": "code",
      "execution_count": 6,
      "id": "6a4cf546",
      "metadata": {
        "id": "6a4cf546",
        "colab": {
          "base_uri": "https://localhost:8080/"
        },
        "outputId": "75d85985-ba78-40b5-81f0-cdcbd75c0f2f"
      },
      "outputs": [
        {
          "output_type": "execute_result",
          "data": {
            "text/plain": [
              "['닥터 스트레인지', '슈퍼맨', '스플릿', '럭키', '배트맨']"
            ]
          },
          "metadata": {},
          "execution_count": 6
        }
      ],
      "source": [
        "movie_rank.insert(1, '슈퍼맨')\n",
        "movie_rank"
      ]
    },
    {
      "cell_type": "markdown",
      "id": "5075b888",
      "metadata": {
        "id": "5075b888"
      },
      "source": [
        "#### 054 movie_rank 리스트에서 '럭키'를 삭제하라.  <br/>\n",
        "  <br/>\n",
        "movie_rank = ['닥터 스트레인지', '슈퍼맨', '스플릿', '럭키', '배트맨']"
      ]
    },
    {
      "cell_type": "code",
      "execution_count": 7,
      "id": "837133fb",
      "metadata": {
        "id": "837133fb",
        "colab": {
          "base_uri": "https://localhost:8080/"
        },
        "outputId": "4ad2220a-307e-4b9e-eb75-bfca29121a5c"
      },
      "outputs": [
        {
          "output_type": "execute_result",
          "data": {
            "text/plain": [
              "['닥터 스트레인지', '슈퍼맨', '스플릿', '배트맨']"
            ]
          },
          "metadata": {},
          "execution_count": 7
        }
      ],
      "source": [
        "movie_rank.remove('럭키')\n",
        "movie_rank"
      ]
    },
    {
      "cell_type": "markdown",
      "id": "4ad56e16",
      "metadata": {
        "id": "4ad56e16"
      },
      "source": [
        "#### 056 lang1과 lang2 리스트가 있을 때 lang1과 lang2의 원소를 모두 갖고 있는 langs 리스트를 만들어라.  <br/>\n",
        "  <br/>\n",
        "lang1 = [\"C\", \"C++\", \"JAVA\"]  <br/>\n",
        "lang2 = [\"Python\", \"Go\", \"C#\"]  <br/>\n",
        "  <br/>\n",
        "실행 예:  <br/>\n",
        "print(langs)  <br/>\n",
        "['C', 'C++', 'JAVA', 'Python', 'Go', 'C#']"
      ]
    },
    {
      "cell_type": "code",
      "execution_count": 8,
      "id": "d768bd61",
      "metadata": {
        "id": "d768bd61",
        "colab": {
          "base_uri": "https://localhost:8080/"
        },
        "outputId": "8c68289d-0649-4bfe-b7eb-fc511a9903de"
      },
      "outputs": [
        {
          "output_type": "execute_result",
          "data": {
            "text/plain": [
              "['C', 'C++', 'JAVA', 'Python', 'Go', 'C#']"
            ]
          },
          "metadata": {},
          "execution_count": 8
        }
      ],
      "source": [
        "lang1 = [\"C\", \"C++\", \"JAVA\"]\n",
        "lang2 = [\"Python\", \"Go\", \"C#\"]\n",
        "\n",
        "langs = lang1 + lang2\n",
        "langs"
      ]
    },
    {
      "cell_type": "markdown",
      "id": "7d265a61",
      "metadata": {
        "id": "7d265a61"
      },
      "source": [
        "#### 057. 다음 리스트에서 최댓값과 최솟값을 출력하라. (힌트: min(), max() 함수 사용)  <br/>\n",
        "  <br/>\n",
        "nums = [1, 2, 3, 4, 5, 6, 7]  <br/>\n",
        "  <br/>\n",
        "실행 예:  <br/>\n",
        "max:  7  <br/>\n",
        "min:  1"
      ]
    },
    {
      "cell_type": "code",
      "execution_count": 9,
      "id": "d546942a",
      "metadata": {
        "id": "d546942a",
        "colab": {
          "base_uri": "https://localhost:8080/"
        },
        "outputId": "41365c4c-f882-4f7d-a340-f76066294826"
      },
      "outputs": [
        {
          "output_type": "stream",
          "name": "stdout",
          "text": [
            "max: 7 min:  1\n"
          ]
        }
      ],
      "source": [
        "nums = [1, 2, 3, 4, 5, 6, 7]\n",
        "\n",
        "print('max:', max(nums), 'min: ', min(nums))"
      ]
    },
    {
      "cell_type": "markdown",
      "id": "c9e94387",
      "metadata": {
        "id": "c9e94387"
      },
      "source": [
        "#### 058. 다음 리스트의 합을 출력하라.  <br/>\n",
        "  <br/>\n",
        "nums = [1, 2, 3, 4, 5]  <br/>\n",
        "  <br/>\n",
        "실행 예: 15  <br/>"
      ]
    },
    {
      "cell_type": "code",
      "execution_count": 10,
      "id": "efa091f8",
      "metadata": {
        "id": "efa091f8",
        "colab": {
          "base_uri": "https://localhost:8080/"
        },
        "outputId": "18ccd815-355c-4075-96d5-9d128d94eacf"
      },
      "outputs": [
        {
          "output_type": "stream",
          "name": "stdout",
          "text": [
            "15\n"
          ]
        }
      ],
      "source": [
        "nums = [1, 2, 3, 4, 5]\n",
        "print(sum(nums))"
      ]
    },
    {
      "cell_type": "markdown",
      "id": "8cabe197",
      "metadata": {
        "id": "8cabe197"
      },
      "source": [
        "#### 059. 다음 리스트에 저장된 데이터의 개수를 화면에 구하하라.\n",
        "\n",
        "cook = [\"피자\", \"김밥\", \"만두\", \"양념치킨\", \"족발\", \"피자\", \"김치만두\", \"쫄면\", \"소시지\", \"라면\", \"팥빙수\", \"김치전\"]\n"
      ]
    },
    {
      "cell_type": "code",
      "execution_count": 11,
      "id": "705eb104",
      "metadata": {
        "colab": {
          "base_uri": "https://localhost:8080/"
        },
        "id": "705eb104",
        "outputId": "aa7c44e8-ec9c-40fb-f082-b8fdf33d08ad"
      },
      "outputs": [
        {
          "output_type": "execute_result",
          "data": {
            "text/plain": [
              "12"
            ]
          },
          "metadata": {},
          "execution_count": 11
        }
      ],
      "source": [
        "cook = [\"피자\", \"김밥\", \"만두\", \"양념치킨\", \"족발\", \"피자\", \"김치만두\", \"쫄면\", \"소시지\", \"라면\", \"팥빙수\", \"김치전\"]\n",
        "\n",
        "len(cook)"
      ]
    },
    {
      "cell_type": "markdown",
      "id": "5fd7c3bb",
      "metadata": {
        "id": "5fd7c3bb"
      },
      "source": [
        "#### 060. 다음 리스트의 평균을 출력하라.  <br/>\n",
        "  <br/>\n",
        "nums = [1, 2, 3, 4, 5]  <br/>\n",
        "  <br/>\n",
        "실행 예: 3.0"
      ]
    },
    {
      "cell_type": "code",
      "execution_count": 12,
      "id": "b5ac39fb",
      "metadata": {
        "colab": {
          "base_uri": "https://localhost:8080/"
        },
        "id": "b5ac39fb",
        "outputId": "8c6f1d86-2043-4496-ce2f-19f19c4b167b"
      },
      "outputs": [
        {
          "output_type": "stream",
          "name": "stdout",
          "text": [
            "3.0\n"
          ]
        }
      ],
      "source": [
        "# mean(nums) 안되네용\n",
        "print(sum(nums) / len(nums))"
      ]
    },
    {
      "cell_type": "code",
      "execution_count": 13,
      "id": "161f8094",
      "metadata": {
        "colab": {
          "base_uri": "https://localhost:8080/"
        },
        "id": "161f8094",
        "outputId": "92d9575e-fe6f-4d92-d274-4190ac660002"
      },
      "outputs": [
        {
          "output_type": "execute_result",
          "data": {
            "text/plain": [
              "3.0"
            ]
          },
          "metadata": {},
          "execution_count": 13
        }
      ],
      "source": [
        "import numpy as np\n",
        "nums = [1,2,3,4,5]\n",
        "np.mean(nums)"
      ]
    },
    {
      "cell_type": "code",
      "execution_count": 14,
      "id": "15b0d8c6",
      "metadata": {
        "colab": {
          "base_uri": "https://localhost:8080/"
        },
        "id": "15b0d8c6",
        "outputId": "8e12903f-184e-4004-e29b-5c390975f343"
      },
      "outputs": [
        {
          "output_type": "execute_result",
          "data": {
            "text/plain": [
              "3"
            ]
          },
          "metadata": {},
          "execution_count": 14
        }
      ],
      "source": [
        "import statistics\n",
        "statistics.mean(nums)"
      ]
    },
    {
      "cell_type": "markdown",
      "id": "6ae56c90",
      "metadata": {
        "id": "6ae56c90"
      },
      "source": [
        "#### 061. price 변수에는 날짜와 종가 정보가 저장돼 있다. 날짜 정보를 제외하고 가격 정보만을 출력하라. (힌트 : 슬라이싱)\n",
        "\n",
        "price = ['20180728', 100, 130, 140, 150, 160, 170] <br/>\n",
        " <br/>\n",
        "출력 예시: <br/>\n",
        "[100, 130, 140, 150, 160, 170]"
      ]
    },
    {
      "cell_type": "code",
      "execution_count": 15,
      "id": "03c397ef",
      "metadata": {
        "id": "03c397ef",
        "colab": {
          "base_uri": "https://localhost:8080/"
        },
        "outputId": "e0b2f644-e3e1-47a6-b968-79d4314bbbbc"
      },
      "outputs": [
        {
          "output_type": "stream",
          "name": "stdout",
          "text": [
            "[100, 130, 140, 150, 160, 170]\n"
          ]
        }
      ],
      "source": [
        "price = ['20180728', 100, 130, 140, 150, 160, 170]\n",
        "\n",
        "print(price[1:])"
      ]
    },
    {
      "cell_type": "markdown",
      "id": "d410f1ca",
      "metadata": {
        "id": "d410f1ca"
      },
      "source": [
        "#### 062. 슬라이싱을 사용해서 홀수만 출력하라. <br/>\n",
        "nums = [1, 2, 3, 4, 5, 6, 7, 8, 9, 10] <br/>\n",
        " <br/>\n",
        "실행 예:  <br/>\n",
        " [1, 3, 5, 7, 9]"
      ]
    },
    {
      "cell_type": "code",
      "execution_count": 16,
      "id": "3618608b",
      "metadata": {
        "id": "3618608b",
        "colab": {
          "base_uri": "https://localhost:8080/"
        },
        "outputId": "9bbefcb0-5e65-4f4a-bf3e-2e58ffe5bc73"
      },
      "outputs": [
        {
          "output_type": "execute_result",
          "data": {
            "text/plain": [
              "[1, 3, 5, 7, 9]"
            ]
          },
          "metadata": {},
          "execution_count": 16
        }
      ],
      "source": [
        "nums = [1, 2, 3, 4, 5, 6, 7, 8, 9, 10]\n",
        "\n",
        "nums[::2]"
      ]
    },
    {
      "cell_type": "markdown",
      "id": "09021c75",
      "metadata": {
        "id": "09021c75"
      },
      "source": [
        "#### 063. 슬라이싱을 사용해서 짝수만 출력하라. <br/>\n",
        "\n",
        "nums = [1, 2, 3, 4, 5, 6, 7, 8, 9, 10] <br/>\n",
        " <br/>\n",
        "실행 예:  <br/>\n",
        " [2, 4, 6, 8, 10]"
      ]
    },
    {
      "cell_type": "code",
      "execution_count": 17,
      "id": "e161b0ba",
      "metadata": {
        "id": "e161b0ba",
        "colab": {
          "base_uri": "https://localhost:8080/"
        },
        "outputId": "68915ef7-a782-4180-b6a4-49237784b2aa"
      },
      "outputs": [
        {
          "output_type": "execute_result",
          "data": {
            "text/plain": [
              "[2, 4, 6, 8, 10]"
            ]
          },
          "metadata": {},
          "execution_count": 17
        }
      ],
      "source": [
        "nums[1::2]"
      ]
    },
    {
      "cell_type": "markdown",
      "id": "8b4f82d9",
      "metadata": {
        "id": "8b4f82d9"
      },
      "source": [
        "#### 064. 슬라이싱을 사용해서 리스트의 숫자를 역 방향으로 출력하라. <br/>\n",
        "\n",
        "nums = [1, 2, 3, 4, 5] <br/>\n",
        " <br/>\n",
        "실행 예:  <br/>\n",
        "[5, 4, 3, 2, 1]"
      ]
    },
    {
      "cell_type": "code",
      "execution_count": 18,
      "id": "1a854b15",
      "metadata": {
        "id": "1a854b15",
        "colab": {
          "base_uri": "https://localhost:8080/"
        },
        "outputId": "321e4b9c-f4ec-442d-a92c-edfa3179b8c9"
      },
      "outputs": [
        {
          "output_type": "execute_result",
          "data": {
            "text/plain": [
              "[5, 4, 3, 2, 1]"
            ]
          },
          "metadata": {},
          "execution_count": 18
        }
      ],
      "source": [
        "nums = [1, 2, 3, 4, 5]\n",
        "\n",
        "nums[::-1]"
      ]
    },
    {
      "cell_type": "markdown",
      "id": "ca70e0a9",
      "metadata": {
        "id": "ca70e0a9"
      },
      "source": [
        "## Join Method"
      ]
    },
    {
      "cell_type": "markdown",
      "id": "18a38676",
      "metadata": {
        "id": "18a38676"
      },
      "source": [
        "#### 065. interest 리스트에는 아래의 데이터가 바인딩되어 있다.\n",
        "\n",
        "- interest = ['삼성전자', 'LG전자', 'Naver']\n",
        "#### interest 리스트를 사용하여 아래와 같이 화면에 출력하라.\n",
        "\n",
        "- 출력 예시:삼성전자 Naver"
      ]
    },
    {
      "cell_type": "code",
      "execution_count": 19,
      "id": "bdca6b37",
      "metadata": {
        "id": "bdca6b37",
        "colab": {
          "base_uri": "https://localhost:8080/"
        },
        "outputId": "c58e4a77-b7f8-4106-e627-5727418402a3"
      },
      "outputs": [
        {
          "output_type": "stream",
          "name": "stdout",
          "text": [
            "['삼성전자', 'Naver']\n",
            "삼성전자 Naver\n",
            "삼성전자 Naver\n"
          ]
        }
      ],
      "source": [
        "interest = ['삼성전자', 'LG전자', 'Naver']\n",
        "\n",
        "print(interest[::2])\n",
        "\n",
        "print(interest[0], interest[2])\n",
        "\n",
        "print(' '.join(interest[::2]))"
      ]
    },
    {
      "cell_type": "markdown",
      "id": "991519f8",
      "metadata": {
        "id": "991519f8"
      },
      "source": [
        "#### 066 join 메서드  <br/>\n",
        "interest = ['삼성전자', 'LG전자', 'Naver', 'SK하이닉스', '미래에셋대우']  <br/>\n",
        "출력 예시:   <br/>\n",
        "삼성전자 LG전자 Naver SK하이닉스 미래에셋대우"
      ]
    },
    {
      "cell_type": "code",
      "execution_count": 20,
      "id": "cfNr6o0lQTYf",
      "metadata": {
        "id": "cfNr6o0lQTYf",
        "colab": {
          "base_uri": "https://localhost:8080/"
        },
        "outputId": "e79eb57d-6d17-4fe5-c742-f3c33a335c06"
      },
      "outputs": [
        {
          "output_type": "stream",
          "name": "stdout",
          "text": [
            "삼성전자 LG전자 Naver SK하이닉스 미래에셋대우\n",
            "삼성전자 LG전자 Naver SK하이닉스 미래에셋대우\n"
          ]
        }
      ],
      "source": [
        "interest = ['삼성전자', 'LG전자', 'Naver', 'SK하이닉스', '미래에셋대우']\n",
        "\n",
        "print(interest[0], interest[1], interest[2], interest[3], interest[4])\n",
        "\n",
        "print(' '.join(interest))"
      ]
    },
    {
      "cell_type": "markdown",
      "id": "6DhYBANjQWjy",
      "metadata": {
        "id": "6DhYBANjQWjy"
      },
      "source": [
        "#### 067 join 메서드  <br/>\n",
        "interest = ['삼성전자', 'LG전자', 'Naver', 'SK하이닉스', '미래에셋대우']  <br/>\n",
        "출력 예시:  <br/>\n",
        " 삼성전자/LG전자/Naver/SK하이닉스/미래에셋대우\n"
      ]
    },
    {
      "cell_type": "code",
      "execution_count": 21,
      "id": "XBGQogh8QQ9A",
      "metadata": {
        "id": "XBGQogh8QQ9A",
        "colab": {
          "base_uri": "https://localhost:8080/"
        },
        "outputId": "a8990bdc-4224-4423-fb69-957c183ab87c"
      },
      "outputs": [
        {
          "output_type": "stream",
          "name": "stdout",
          "text": [
            "삼성전자/LG전자/Naver/SK하이닉스/미래에셋대우\n"
          ]
        }
      ],
      "source": [
        "print('/'.join(interest))"
      ]
    },
    {
      "cell_type": "markdown",
      "id": "f3963288",
      "metadata": {
        "id": "f3963288"
      },
      "source": [
        "#### 068 join 메서드  <br/>\n",
        "interest = ['삼성전자', 'LG전자', 'Naver', 'SK하이닉스', '미래에셋대우']  <br/>\n",
        "- 출력 예시:  <br/>\n",
        "삼성전자  <br/>\n",
        "LG전자  <br/>\n",
        "Naver  <br/>\n",
        "SK하이닉스  <br/>\n",
        "미래에셋대우"
      ]
    },
    {
      "cell_type": "code",
      "execution_count": 22,
      "id": "0cea9d4a",
      "metadata": {
        "colab": {
          "base_uri": "https://localhost:8080/"
        },
        "id": "0cea9d4a",
        "outputId": "33d07b13-caae-4fa4-96c4-a0f36c3c3429"
      },
      "outputs": [
        {
          "output_type": "stream",
          "name": "stdout",
          "text": [
            "삼성전자\n",
            "LG전자\n",
            "Naver\n",
            "SK하이닉스\n",
            "미래에셋대우\n"
          ]
        }
      ],
      "source": [
        "print(\"\\n\".join(interest))"
      ]
    },
    {
      "cell_type": "markdown",
      "id": "5d75ac86",
      "metadata": {
        "id": "5d75ac86"
      },
      "source": [
        "## Split Method"
      ]
    },
    {
      "cell_type": "markdown",
      "id": "2fed215c",
      "metadata": {
        "id": "2fed215c"
      },
      "source": [
        "#### 069 문자열 split 메서드  <br/>\n",
        "회사 이름이 슬래시 ('/')로 구분되어 하나의 문자열로 저장되어 있다.  <br/>\n",
        "  <br/>\n",
        "string = \"삼성전자/LG전자/Naver\"  <br/>\n",
        "  <br/>\n",
        "이를 interest 이름의 리스트로 분리 저장하라.  <br/>\n",
        "  <br/>\n",
        "실행 예시 :  <br/>\n",
        " ['삼성전자', 'LG전자', 'Naver']"
      ]
    },
    {
      "cell_type": "code",
      "execution_count": 23,
      "id": "cd65cf20",
      "metadata": {
        "id": "cd65cf20",
        "colab": {
          "base_uri": "https://localhost:8080/"
        },
        "outputId": "043ddb56-1fe8-4fc9-9788-fa0a5d05bf11"
      },
      "outputs": [
        {
          "output_type": "stream",
          "name": "stdout",
          "text": [
            "['삼성전자', 'LG전자', 'Naver']\n"
          ]
        }
      ],
      "source": [
        "string = \"삼성전자/LG전자/Naver\"\n",
        "\n",
        "string = string.split('/')\n",
        "\n",
        "print(string)"
      ]
    },
    {
      "cell_type": "markdown",
      "id": "2df39026",
      "metadata": {
        "id": "2df39026"
      },
      "source": [
        "#### 070 리스트 정렬  <br/>\n",
        "리스트에 있는 값을 오름차순으로 정렬하세요.  <br/>\n",
        "  <br/>\n",
        "data = [2, 4, 3, 1, 5, 10, 9]"
      ]
    },
    {
      "cell_type": "code",
      "execution_count": 24,
      "id": "2ca112d6",
      "metadata": {
        "id": "2ca112d6",
        "colab": {
          "base_uri": "https://localhost:8080/"
        },
        "outputId": "06798b21-df9a-43cf-b6a6-9b91de14a197"
      },
      "outputs": [
        {
          "output_type": "execute_result",
          "data": {
            "text/plain": [
              "[10, 9, 5, 4, 3, 2, 1]"
            ]
          },
          "metadata": {},
          "execution_count": 24
        }
      ],
      "source": [
        "data = [2, 4, 3, 1, 5, 10, 9]\n",
        "data.sort(reverse=True)\n",
        "  #reverse=True : 오름차순\n",
        "  #reverse=False : 내림차순\n",
        "data"
      ]
    },
    {
      "cell_type": "markdown",
      "id": "1753a3b7",
      "metadata": {
        "id": "1753a3b7"
      },
      "source": [
        "# Tuple"
      ]
    },
    {
      "cell_type": "code",
      "execution_count": 25,
      "id": "1abb1100",
      "metadata": {
        "colab": {
          "base_uri": "https://localhost:8080/"
        },
        "id": "1abb1100",
        "outputId": "88056d13-b14c-4d1d-b865-fd470855c7b6"
      },
      "outputs": [
        {
          "output_type": "stream",
          "name": "stdout",
          "text": [
            "tuple: (1, ['a', 'A', 1.23], 'a', 'A', 2, 2, 1.23, True)\n",
            "tuple2: (1, 'a', 'A', 2, 2, 1.23, True)\n",
            "type(tuple): <class 'tuple'>\n"
          ]
        }
      ],
      "source": [
        "tuple = (1, [\"a\", \"A\", 1.23], \"a\",\"A\", 2, 2,  1.23, True)\n",
        "tuple2 = (1, \"a\",\"A\", 2, 2,  1.23, True)\n",
        "print('tuple:', tuple)\n",
        "print('tuple2:', tuple2)\n",
        "print('type(tuple):', type(tuple))\n"
      ]
    },
    {
      "cell_type": "code",
      "execution_count": 26,
      "id": "f22a9096",
      "metadata": {
        "colab": {
          "base_uri": "https://localhost:8080/"
        },
        "id": "f22a9096",
        "outputId": "595f42ad-6673-4179-d72c-a968bb2d5977"
      },
      "outputs": [
        {
          "output_type": "execute_result",
          "data": {
            "text/plain": [
              "(1, ['a', 'A', 1.23], 'a', 'A', 2, 2, 1.23, True)"
            ]
          },
          "metadata": {},
          "execution_count": 26
        }
      ],
      "source": [
        "tuple[:]"
      ]
    },
    {
      "cell_type": "code",
      "execution_count": 27,
      "id": "0a925caa",
      "metadata": {
        "colab": {
          "base_uri": "https://localhost:8080/"
        },
        "id": "0a925caa",
        "outputId": "8bbc7b5b-4921-4db5-89eb-9383c0625202"
      },
      "outputs": [
        {
          "output_type": "execute_result",
          "data": {
            "text/plain": [
              "(['a', 'A', 1.23], 'a')"
            ]
          },
          "metadata": {},
          "execution_count": 27
        }
      ],
      "source": [
        "tuple[1:3]"
      ]
    },
    {
      "cell_type": "code",
      "execution_count": 28,
      "id": "0ee5b622",
      "metadata": {
        "colab": {
          "base_uri": "https://localhost:8080/"
        },
        "id": "0ee5b622",
        "outputId": "0b0e14df-98d6-407b-a72f-1870267b183c"
      },
      "outputs": [
        {
          "output_type": "stream",
          "name": "stdout",
          "text": [
            "'a' index, 'a' location:  2\n",
            "6\n"
          ]
        }
      ],
      "source": [
        "print(\"'a' index, 'a' location: \", tuple.index('a'))\n",
        "print(tuple.index(1.23))"
      ]
    },
    {
      "cell_type": "code",
      "execution_count": 29,
      "id": "6c372dfd",
      "metadata": {
        "colab": {
          "base_uri": "https://localhost:8080/"
        },
        "id": "6c372dfd",
        "outputId": "72d8d7a2-2ef8-4325-8a41-3107b8cd4735"
      },
      "outputs": [
        {
          "output_type": "stream",
          "name": "stdout",
          "text": [
            "2\n",
            "1\n"
          ]
        }
      ],
      "source": [
        "print(tuple.count(2))\n",
        "print(tuple.count('a'))"
      ]
    },
    {
      "cell_type": "markdown",
      "id": "14932947",
      "metadata": {
        "id": "14932947"
      },
      "source": [
        "#### 072. 2016년 11월 영화 예매 순위 기준 top3는 다음과 같다. <br/>\n",
        "#### 영화 제목을 movie_rank 이름의 튜플에 저장하라.  <br/>\n",
        "(순위 정보는 저장하지 않는다.) <br/>\n",
        " <br/>\n",
        "#### 순위\t영화 <br/>\n",
        "1\t닥터 스트레인지 <br/>\n",
        "2\t스플릿 <br/>\n",
        "3\t럭키 <br/>"
      ]
    },
    {
      "cell_type": "code",
      "execution_count": 30,
      "id": "e6682bf0",
      "metadata": {
        "id": "e6682bf0",
        "colab": {
          "base_uri": "https://localhost:8080/"
        },
        "outputId": "62283769-b45d-4f96-eab4-c2c7ca2a698d"
      },
      "outputs": [
        {
          "output_type": "execute_result",
          "data": {
            "text/plain": [
              "()"
            ]
          },
          "metadata": {},
          "execution_count": 30
        }
      ],
      "source": [
        "movie_rank = ()\n",
        "\n",
        "movie_rank"
      ]
    },
    {
      "cell_type": "code",
      "execution_count": 31,
      "id": "03dd7094",
      "metadata": {
        "colab": {
          "base_uri": "https://localhost:8080/"
        },
        "id": "03dd7094",
        "outputId": "fe736588-cae3-4089-fced-710979b3be6e"
      },
      "outputs": [
        {
          "output_type": "execute_result",
          "data": {
            "text/plain": [
              "('doctor', 'split', 'lucky')"
            ]
          },
          "metadata": {},
          "execution_count": 31
        }
      ],
      "source": [
        "movie_rank = ('doctor', 'split', 'lucky')\n",
        "\n",
        "movie_rank"
      ]
    },
    {
      "cell_type": "markdown",
      "id": "792ef12c",
      "metadata": {
        "id": "792ef12c"
      },
      "source": [
        "#### 074. 다음 코드를 실행해보고 오류가 발생하는 원인을 설명하라.\n",
        " <br/>\n",
        "t = (1, 2, 3) <br/>\n",
        "t[0] = 'a' "
      ]
    },
    {
      "cell_type": "code",
      "execution_count": 32,
      "id": "f4d311a2",
      "metadata": {
        "id": "f4d311a2",
        "colab": {
          "base_uri": "https://localhost:8080/"
        },
        "outputId": "fdd8ffcd-4287-4e21-dcaa-956045c8d0e4"
      },
      "outputs": [
        {
          "output_type": "execute_result",
          "data": {
            "text/plain": [
              "1"
            ]
          },
          "metadata": {},
          "execution_count": 32
        }
      ],
      "source": [
        "t = (1,2,3)\n",
        "t[0]\n",
        "# t[0] = 'a'\n",
        "# 튜플은 한 번 생성되면 변경 불가능"
      ]
    },
    {
      "cell_type": "markdown",
      "id": "b9557f23",
      "metadata": {
        "id": "b9557f23"
      },
      "source": [
        "#### 075 아래와 같이 t에는 1, 2, 3, 4 데이터가 바인딩되어 있다. <br/>\n",
        "t가 바인딩하는 데이터 타입은 무엇인가? <br/>\n",
        " <br/>\n",
        "t = 1, 2, 3, 4"
      ]
    },
    {
      "cell_type": "code",
      "execution_count": 33,
      "id": "b0113b46",
      "metadata": {
        "id": "b0113b46",
        "colab": {
          "base_uri": "https://localhost:8080/"
        },
        "outputId": "9fa94425-df84-4d2c-cf0d-44c5404f72be"
      },
      "outputs": [
        {
          "output_type": "execute_result",
          "data": {
            "text/plain": [
              "tuple"
            ]
          },
          "metadata": {},
          "execution_count": 33
        }
      ],
      "source": [
        "t = 1, 2, 3, 4\n",
        "type(t)"
      ]
    },
    {
      "cell_type": "markdown",
      "id": "a85e1ab5",
      "metadata": {
        "id": "a85e1ab5"
      },
      "source": [
        "#### 079. 튜플 언팩킹\n",
        "다음 코드의 실행 결과를 예상하라. <br/>\n",
        " <br/>\n",
        "temp = ('apple', 'banana', 'cake') <br/>\n",
        "a, b, c = temp <br/>\n",
        "print(a, b, c)"
      ]
    },
    {
      "cell_type": "code",
      "execution_count": 34,
      "id": "4e0461a5",
      "metadata": {
        "id": "4e0461a5",
        "colab": {
          "base_uri": "https://localhost:8080/"
        },
        "outputId": "57a91e48-22fc-4389-a80a-9f766d1568d8"
      },
      "outputs": [
        {
          "output_type": "stream",
          "name": "stdout",
          "text": [
            "apple banana cake\n"
          ]
        }
      ],
      "source": [
        "temp = ('apple', 'banana', 'cake')\n",
        "a, b, c = temp\n",
        "print(a, b, c)"
      ]
    },
    {
      "cell_type": "markdown",
      "id": "a4f47725",
      "metadata": {
        "id": "a4f47725"
      },
      "source": [
        "#### 080. range 함수\n",
        "1 부터 99까지의 정수 중 짝수만 저장된 튜플을 생성하라.\n",
        "\n",
        "(2, 4, 6, 8 ... 98)"
      ]
    },
    {
      "cell_type": "code",
      "execution_count": 38,
      "id": "244a018e",
      "metadata": {
        "id": "244a018e"
      },
      "outputs": [],
      "source": [
        "# wh = tuple(range(2, 100, 2))\n",
        "# print(wh)"
      ]
    },
    {
      "cell_type": "markdown",
      "id": "971c6a3a",
      "metadata": {
        "id": "971c6a3a"
      },
      "source": [
        "\n",
        "## 06. 파이썬 딕셔너리\n",
        "### 파이썬 딕셔너리는 순서는 없지만 key와 value 형태로 데이터를 저장합니다. 특히 key는 데이터의 레이블(label)을 지정하는 용도로 자주 사용됩니다."
      ]
    },
    {
      "cell_type": "code",
      "execution_count": 39,
      "id": "a1346ad6",
      "metadata": {
        "colab": {
          "base_uri": "https://localhost:8080/",
          "height": 143
        },
        "id": "a1346ad6",
        "outputId": "f15c4593-e832-4c43-daa7-b021bf81cfd9"
      },
      "outputs": [
        {
          "output_type": "stream",
          "name": "stdout",
          "text": [
            "type(dict4):  <class 'dict'>\n",
            "True\n",
            "a\n",
            "dict_keys(['a', 'b'])\n",
            "dict_values([1, 2])\n",
            "dict_items([('a', 1), ('b', 2)])\n"
          ]
        },
        {
          "output_type": "execute_result",
          "data": {
            "text/plain": [
              "\"\\n  >>> dict_items([('a', 1), ('b', 2)])\\n\""
            ],
            "application/vnd.google.colaboratory.intrinsic+json": {
              "type": "string"
            }
          },
          "metadata": {},
          "execution_count": 39
        }
      ],
      "source": [
        "dict1 = {\"a\": 1, \"b\": 2} #key:value\n",
        "dict2 = {1: \"a\", 2: \"b\"}\n",
        "dict3 = {1: True, 2: False}\n",
        "dict4 = {\"a\":[True, False], \"b\":[0, 1]}\n",
        "dict4\n",
        "\n",
        "print('type(dict4): ', type(dict4))\n",
        "print(dict3[1])\n",
        "print(dict2[1]) #key의 value값\n",
        "\n",
        "# dict 인덱스 [:] 사용불가\n",
        "\n",
        "\n",
        "print(dict1.keys()) #key만 모아오기\n",
        "print(dict1.values()) #value만 모아오기\n",
        "print(dict1.items()) #키랑 밸류가 튜플형태로 묶여서 나옴\n",
        "\"\"\"\n",
        "  >>> dict_items([('a', 1), ('b', 2)])\n",
        "\"\"\"\n"
      ]
    },
    {
      "cell_type": "markdown",
      "id": "be35decc",
      "metadata": {
        "id": "be35decc"
      },
      "source": [
        "#### 081. 별 표현식\n",
        "기본적으로 데이터 언패킹은 좌변의 변수와 우변 데이터 개수가 같아야 합니다. <br/>\n",
        "하지만 star expression을 사용하면 변수의 개수가 달라도 데이터 언패킹을 할 수 있습니다.  <br/>\n",
        "튜플에 저장된 데이터 중에서 앞에 있는 두 개의 데이터만 필요할 경우 나머지 데이터의 언패킹 코드를 작성할 필요가 없습니다. <br/>\n",
        " <br/>\n",
        "a, b, *c = (0, 1, 2, 3, 4, 5) <br/>\n",
        "print(a) <br/>\n",
        "print(b) <br/>\n",
        "print(c) <br/>\n"
      ]
    },
    {
      "cell_type": "code",
      "execution_count": 40,
      "id": "slQivMWJW3_V",
      "metadata": {
        "id": "slQivMWJW3_V",
        "colab": {
          "base_uri": "https://localhost:8080/"
        },
        "outputId": "62e280ae-dee5-42fb-f9c0-872cc6330349"
      },
      "outputs": [
        {
          "output_type": "stream",
          "name": "stdout",
          "text": [
            "0\n",
            "1\n",
            "[2, 3, 4, 5]\n"
          ]
        }
      ],
      "source": [
        "a, b, *c = (0, 1, 2, 3, 4, 5)\n",
        "print(a)\n",
        "print(b)\n",
        "print(c)"
      ]
    },
    {
      "cell_type": "markdown",
      "id": "f7ecd1b1",
      "metadata": {
        "id": "f7ecd1b1"
      },
      "source": [
        "#### 082.다음과 같이 10개의 값이 저장된 scores 리스트가 있을 때, start expression을 사용하여 우측 8개의 값을 valid_score 변수에 바인딩하여라.\n",
        "\n",
        "- scores = [8.8, 8.9, 8.7, 9.2, 9.3, 9.7, 9.9, 9.5, 7.8, 9.4]\n",
        "\n"
      ]
    },
    {
      "cell_type": "code",
      "execution_count": 41,
      "id": "dc10438f",
      "metadata": {
        "id": "dc10438f",
        "colab": {
          "base_uri": "https://localhost:8080/"
        },
        "outputId": "2fc8c1c8-bf52-43ba-ef55-acfbac120411"
      },
      "outputs": [
        {
          "output_type": "stream",
          "name": "stdout",
          "text": [
            "[8.7, 9.2, 9.3, 9.7, 9.9, 9.5, 7.8, 9.4]\n"
          ]
        }
      ],
      "source": [
        "# 우측 8개 값\n",
        "scores = [8.8, 8.9, 8.7, 9.2, 9.3, 9.7, 9.9, 9.5, 7.8, 9.4]\n",
        "a, b, *valid_score = scores\n",
        "\n",
        "print(valid_score)"
      ]
    },
    {
      "cell_type": "code",
      "execution_count": 42,
      "id": "7b5e2abb",
      "metadata": {
        "colab": {
          "base_uri": "https://localhost:8080/"
        },
        "id": "7b5e2abb",
        "outputId": "1a4d735b-3931-410a-891b-f3809d54f09c"
      },
      "outputs": [
        {
          "output_type": "stream",
          "name": "stdout",
          "text": [
            "[8.9, 8.7, 9.2, 9.3, 9.7, 9.9, 9.5, 7.8]\n"
          ]
        }
      ],
      "source": [
        "# 가운데 8개 값\n",
        "\n",
        "scores = [8.8, 8.9, 8.7, 9.2, 9.3, 9.7, 9.9, 9.5, 7.8, 9.4]\n",
        "a, *valid_score, c = scores\n",
        "print(valid_score)"
      ]
    },
    {
      "cell_type": "markdown",
      "id": "cdabfd63",
      "metadata": {
        "id": "cdabfd63"
      },
      "source": [
        "#### 084. 비어있는 딕셔너리 temp 이름의 비어있는 딕셔너리를 만들라.\n",
        "\n",
        "\n"
      ]
    },
    {
      "cell_type": "code",
      "execution_count": 43,
      "id": "f22bd850",
      "metadata": {
        "id": "f22bd850",
        "colab": {
          "base_uri": "https://localhost:8080/"
        },
        "outputId": "83a6a15e-bb25-4dab-b71c-7adf158625a6"
      },
      "outputs": [
        {
          "output_type": "execute_result",
          "data": {
            "text/plain": [
              "{}"
            ]
          },
          "metadata": {},
          "execution_count": 43
        }
      ],
      "source": [
        "temp = {}\n",
        "\n",
        "temp"
      ]
    },
    {
      "cell_type": "markdown",
      "id": "82307f1c",
      "metadata": {
        "id": "82307f1c"
      },
      "source": [
        "#### 085. 다음 아이스크림 이름과 희망 가격을 딕셔너리로 구성하라.\n",
        "\n",
        "- 이름\t희망가격\n",
        "- 메로나\t1000\n",
        "- 폴라포\t1200\n",
        "- 빵빠레\t1800\n",
        "\n",
        "\n",
        "\n",
        " \n",
        "\n"
      ]
    },
    {
      "cell_type": "code",
      "execution_count": 44,
      "id": "e0082580",
      "metadata": {
        "id": "e0082580"
      },
      "outputs": [],
      "source": [
        "icecream = {\"메로나\": 1000, \"폴라포\": 1200, \"빵빠레\" : 1800}"
      ]
    },
    {
      "cell_type": "markdown",
      "id": "233e1ec7",
      "metadata": {
        "id": "233e1ec7"
      },
      "source": [
        "#### 086. 085 번의 딕셔너리에 아래 아이스크림 가격정보를 추가하라.\n",
        "\n",
        "- 이름\t희망 가격\n",
        "- 죠스바\t1200\n",
        "- 월드콘\t1500"
      ]
    },
    {
      "cell_type": "code",
      "execution_count": 45,
      "id": "a71e1c7b",
      "metadata": {
        "id": "a71e1c7b",
        "colab": {
          "base_uri": "https://localhost:8080/"
        },
        "outputId": "b63ef839-a39d-4beb-c1a2-e92ff3f491ef"
      },
      "outputs": [
        {
          "output_type": "execute_result",
          "data": {
            "text/plain": [
              "{'메로나': 1000, '폴라포': 1200, '빵빠레': 1800, '죠스바': 1200, '월드콘': 1500}"
            ]
          },
          "metadata": {},
          "execution_count": 45
        }
      ],
      "source": [
        "icecream[\"죠스바\"] = 1200\n",
        "icecream[\"월드콘\"] = 1500\n",
        "\n",
        "icecream"
      ]
    },
    {
      "cell_type": "markdown",
      "id": "99d7223f",
      "metadata": {
        "id": "99d7223f"
      },
      "source": [
        "#### 087. 다음 딕셔너리를 사용하여 메로나 가격을 출력하라.\n",
        "\n",
        "ice = {'메로나': 1000,\n",
        "       '폴로포': 1200,\n",
        "       '빵빠레': 1800,\n",
        "       '죠스바': 1200,\n",
        "       '월드콘': 1500}\n",
        "- 실행 예: 메로나 가격: 1000\n",
        "\n",
        "\n",
        "\n"
      ]
    },
    {
      "cell_type": "code",
      "execution_count": 47,
      "id": "8a188289",
      "metadata": {
        "id": "8a188289",
        "colab": {
          "base_uri": "https://localhost:8080/",
          "height": 188
        },
        "outputId": "5146f9d1-e189-426e-8892-697d0744c803"
      },
      "outputs": [
        {
          "output_type": "error",
          "ename": "TypeError",
          "evalue": "ignored",
          "traceback": [
            "\u001b[0;31m---------------------------------------------------------------------------\u001b[0m",
            "\u001b[0;31mTypeError\u001b[0m                                 Traceback (most recent call last)",
            "\u001b[0;32m<ipython-input-47-f80c5e0dce36>\u001b[0m in \u001b[0;36m<cell line: 2>\u001b[0;34m()\u001b[0m\n\u001b[1;32m      1\u001b[0m \u001b[0mice\u001b[0m \u001b[0;34m=\u001b[0m \u001b[0;34m{\u001b[0m\u001b[0;34m'메로나'\u001b[0m\u001b[0;34m:\u001b[0m \u001b[0;36m1000\u001b[0m\u001b[0;34m,\u001b[0m \u001b[0;34m'폴로포'\u001b[0m\u001b[0;34m:\u001b[0m \u001b[0;36m1200\u001b[0m\u001b[0;34m,\u001b[0m \u001b[0;34m'빵빠레'\u001b[0m\u001b[0;34m:\u001b[0m \u001b[0;36m1800\u001b[0m\u001b[0;34m,\u001b[0m \u001b[0;34m'죠스바'\u001b[0m\u001b[0;34m:\u001b[0m \u001b[0;36m1200\u001b[0m\u001b[0;34m,\u001b[0m \u001b[0;34m'월드콘'\u001b[0m\u001b[0;34m:\u001b[0m \u001b[0;36m1500\u001b[0m\u001b[0;34m}\u001b[0m\u001b[0;34m\u001b[0m\u001b[0;34m\u001b[0m\u001b[0m\n\u001b[0;32m----> 2\u001b[0;31m \u001b[0mprint\u001b[0m\u001b[0;34m(\u001b[0m\u001b[0mlist\u001b[0m\u001b[0;34m(\u001b[0m\u001b[0mice\u001b[0m\u001b[0;34m.\u001b[0m\u001b[0mkeys\u001b[0m\u001b[0;34m(\u001b[0m\u001b[0;34m)\u001b[0m\u001b[0;34m)\u001b[0m\u001b[0;34m[\u001b[0m\u001b[0;36m0\u001b[0m\u001b[0;34m]\u001b[0m\u001b[0;34m,\u001b[0m \u001b[0;34m\"price: \"\u001b[0m\u001b[0;34m,\u001b[0m \u001b[0mice\u001b[0m\u001b[0;34m[\u001b[0m\u001b[0;34m'메로나'\u001b[0m\u001b[0;34m]\u001b[0m\u001b[0;34m)\u001b[0m\u001b[0;34m\u001b[0m\u001b[0;34m\u001b[0m\u001b[0m\n\u001b[0m",
            "\u001b[0;31mTypeError\u001b[0m: 'list' object is not callable"
          ]
        }
      ],
      "source": [
        "ice = {'메로나': 1000, '폴로포': 1200, '빵빠레': 1800, '죠스바': 1200, '월드콘': 1500}\n",
        "print(list(ice.keys())[0], \"price: \", ice['메로나'])"
      ]
    },
    {
      "cell_type": "markdown",
      "id": "c0a003a5",
      "metadata": {
        "id": "c0a003a5"
      },
      "source": [
        "#### 088. 다음 딕셔너리에서 메로나의 가격을 1300으로 수정하라. <br/>\n",
        "<br/>\n",
        "ice = {'메로나': 1000,<br/>\n",
        "       '폴로포': 1200,<br/>\n",
        "       '빵빠레': 1800,<br/>\n",
        "       '죠스바': 1200,<br/>\n",
        "       '월드콘': 1500}<br/>\n",
        "\n"
      ]
    },
    {
      "cell_type": "code",
      "execution_count": 48,
      "id": "ad6b43de",
      "metadata": {
        "id": "ad6b43de",
        "colab": {
          "base_uri": "https://localhost:8080/"
        },
        "outputId": "19ee1d4f-c4d6-4018-b806-61334c1030a3"
      },
      "outputs": [
        {
          "output_type": "execute_result",
          "data": {
            "text/plain": [
              "{'메로나': 1300, '폴로포': 1200, '빵빠레': 1800, '죠스바': 1200, '월드콘': 1500}"
            ]
          },
          "metadata": {},
          "execution_count": 48
        }
      ],
      "source": [
        "ice['메로나'] = 1300\n",
        "\n",
        "ice"
      ]
    },
    {
      "cell_type": "markdown",
      "id": "4e59489c",
      "metadata": {
        "id": "4e59489c"
      },
      "source": [
        "#### 089. 다음 딕셔너리에서 메로나를 삭제하라.\n",
        "\n",
        "ice = {'메로나': 1000,\n",
        "       '폴로포': 1200,\n",
        "       '빵빠레': 1800,\n",
        "       '죠스바': 1200,\n",
        "       '월드콘': 1500}"
      ]
    },
    {
      "cell_type": "code",
      "execution_count": 49,
      "id": "6b7e66cf",
      "metadata": {
        "id": "6b7e66cf",
        "colab": {
          "base_uri": "https://localhost:8080/"
        },
        "outputId": "fb991b1d-bbff-48d1-8e3e-f2b144d77b85"
      },
      "outputs": [
        {
          "output_type": "execute_result",
          "data": {
            "text/plain": [
              "{'폴로포': 1200, '빵빠레': 1800, '죠스바': 1200, '월드콘': 1500}"
            ]
          },
          "metadata": {},
          "execution_count": 49
        }
      ],
      "source": [
        "del(ice['메로나'])\n",
        "ice"
      ]
    },
    {
      "cell_type": "markdown",
      "id": "2b808a24",
      "metadata": {
        "id": "2b808a24"
      },
      "source": [
        "#### 090.다음 코드에서 에러가 발생한 원인을 설명하라.\n",
        "\n",
        "- icecream = {'폴라포': 1200, '빵빠레': 1800, '월드콘': 1500, '메로나': 1000}\n",
        "- icecream['누가바']\n",
        "-- Traceback (most recent call last):\n",
        "  File \"<pyshell#69>\", line 1, in <module>\n",
        "    icecream['누가바']\n",
        "KeyError: '누가바'\n"
      ]
    },
    {
      "cell_type": "code",
      "execution_count": 50,
      "id": "eddb656e",
      "metadata": {
        "id": "eddb656e"
      },
      "outputs": [],
      "source": [
        "icecream = {'폴라포': 1200, '빵빠레': 1800, '월드콘': 1500, '메로나': 1000}\n",
        "# icecream['누가바']\n",
        "# 누가바가 없어서 에러"
      ]
    },
    {
      "cell_type": "markdown",
      "id": "87aadea8",
      "metadata": {
        "id": "87aadea8"
      },
      "source": [
        "#### 091 딕셔너리 생성\n",
        "아래의 표에서, 아이스크림 이름을 키값으로, (가격, 재고) 리스트를 딕셔너리의 값으로 저장하라. <br/>\n",
        "딕셔너리의 이름은 inventory로 한다.\n",
        "\n",
        "| 이름\t  | 가격 | 재고  |\n",
        "| ------  |-----:|------:| \n",
        "| 메로나\t|  300 |    20 |\n",
        "| 비비빅\t|  400 |     3 |\n",
        "| 죠스바\t|  250 |   100 |\n"
      ]
    },
    {
      "cell_type": "code",
      "execution_count": 51,
      "id": "b221ac38",
      "metadata": {
        "id": "b221ac38",
        "colab": {
          "base_uri": "https://localhost:8080/"
        },
        "outputId": "1564e3bb-1e44-4945-f1b3-ebd803b8a821"
      },
      "outputs": [
        {
          "output_type": "execute_result",
          "data": {
            "text/plain": [
              "{'메로나': [300, 20], '비비빅': [400, 3], '죠스바': [250, 100]}"
            ]
          },
          "metadata": {},
          "execution_count": 51
        }
      ],
      "source": [
        "inventory = {'메로나': [300, 20],\n",
        "             '비비빅': [400, 3],\n",
        "             '죠스바': [250, 100]}\n",
        "\n",
        "inventory"
      ]
    },
    {
      "cell_type": "markdown",
      "id": "4b5ac80e",
      "metadata": {
        "id": "4b5ac80e"
      },
      "source": [
        "#### 92 딕셔너리 인덱싱\n",
        "inventory 딕셔너리에서 메로나의 가격을 화면에 출력하라.\n",
        "\n",
        "inventory = {\"메로나\": [300, 20],\n",
        "              \"비비빅\": [400, 3],\n",
        "              \"죠스바\": [250, 100]} <br/>\n",
        "               <br/>\n",
        "실행 예시:  <br/>\n",
        "300 원\n",
        "\n"
      ]
    },
    {
      "cell_type": "code",
      "execution_count": 52,
      "id": "03f827cb",
      "metadata": {
        "id": "03f827cb",
        "colab": {
          "base_uri": "https://localhost:8080/"
        },
        "outputId": "f51f5cc3-8c9d-48c0-ac91-439a588742a3"
      },
      "outputs": [
        {
          "output_type": "stream",
          "name": "stdout",
          "text": [
            "300 원\n"
          ]
        }
      ],
      "source": [
        "print(inventory['메로나'][0],\"원\")"
      ]
    },
    {
      "cell_type": "markdown",
      "id": "388278da",
      "metadata": {
        "id": "388278da"
      },
      "source": [
        "#### 093 딕셔너리 인덱싱\n",
        "inventory 딕셔너리에서 메로나의 재고를 화면에 출력하라.\n",
        "\n",
        "inventory = {\"메로나\": [300, 20],\n",
        "              \"비비빅\": [400, 3],\n",
        "              \"죠스바\": [250, 100]}\n",
        "- 실행 예시: 20 개\n",
        "\n"
      ]
    },
    {
      "cell_type": "code",
      "execution_count": 53,
      "id": "05f8148f",
      "metadata": {
        "id": "05f8148f",
        "colab": {
          "base_uri": "https://localhost:8080/"
        },
        "outputId": "1fb66ed9-cd99-448d-8b31-ae28ee8fdb3c"
      },
      "outputs": [
        {
          "output_type": "stream",
          "name": "stdout",
          "text": [
            "20 개\n"
          ]
        }
      ],
      "source": [
        "print(inventory['메로나'][1], '개')"
      ]
    },
    {
      "cell_type": "markdown",
      "id": "5dd714f0",
      "metadata": {
        "id": "5dd714f0"
      },
      "source": [
        "#### 094 딕셔너리 추가\n",
        "inventory 딕셔너리에 아래 데이터를 추가하라.  <br/>\n",
        "inventory = {\"메로나\": [300, 20],\n",
        "              \"비비빅\": [400, 3],\n",
        "              \"죠스바\": [250, 100]}  <br/>\n",
        "\n",
        "| 이름  |  가격 \t| 재고 | \n",
        "|------ |--- ----:|-----:| \n",
        "| 월드콘|   500 \t| 7    | <br/>\n",
        " <br/>\n",
        "\n",
        "실행 예시:  <br/>\n",
        "print(inventory)  <br/>\n",
        "{'메로나': [300, 20], '비비빅': [400, 3], '죠스바': [250, 100], '월드콘': [500, 7]}\n",
        "\n"
      ]
    },
    {
      "cell_type": "code",
      "execution_count": 54,
      "id": "93dbec7f",
      "metadata": {
        "id": "93dbec7f",
        "colab": {
          "base_uri": "https://localhost:8080/"
        },
        "outputId": "35771667-cc8c-46c4-adbd-87d67f0a2198"
      },
      "outputs": [
        {
          "output_type": "execute_result",
          "data": {
            "text/plain": [
              "{'메로나': [300, 20], '비비빅': [400, 3], '죠스바': [250, 100], '월드콘': [500, 7]}"
            ]
          },
          "metadata": {},
          "execution_count": 54
        }
      ],
      "source": [
        "inventory['월드콘'] = [500, 7]\n",
        "\n",
        "inventory"
      ]
    },
    {
      "cell_type": "markdown",
      "id": "239b1e46",
      "metadata": {
        "id": "239b1e46"
      },
      "source": [
        "#### 095 딕셔너리 keys() 메서드\n",
        "다음의 딕셔너리로부터 key 값으로만 구성된 리스트를 생성하라.\n",
        "\n",
        "icecream = {'탱크보이': 1200, '폴라포': 1200, '빵빠레': 1800, '월드콘': 1500, '메로나': 1000}\n",
        "\n",
        " \n",
        "\n"
      ]
    },
    {
      "cell_type": "code",
      "execution_count": 55,
      "id": "579aea36",
      "metadata": {
        "id": "579aea36",
        "colab": {
          "base_uri": "https://localhost:8080/",
          "height": 188
        },
        "outputId": "eef31670-9c2e-44e5-dba2-dd4c336d8bf1"
      },
      "outputs": [
        {
          "output_type": "error",
          "ename": "TypeError",
          "evalue": "ignored",
          "traceback": [
            "\u001b[0;31m---------------------------------------------------------------------------\u001b[0m",
            "\u001b[0;31mTypeError\u001b[0m                                 Traceback (most recent call last)",
            "\u001b[0;32m<ipython-input-55-2ea989025d64>\u001b[0m in \u001b[0;36m<cell line: 2>\u001b[0;34m()\u001b[0m\n\u001b[1;32m      1\u001b[0m \u001b[0micecream\u001b[0m \u001b[0;34m=\u001b[0m \u001b[0;34m{\u001b[0m\u001b[0;34m'탱크보이'\u001b[0m\u001b[0;34m:\u001b[0m \u001b[0;36m1200\u001b[0m\u001b[0;34m,\u001b[0m \u001b[0;34m'폴라포'\u001b[0m\u001b[0;34m:\u001b[0m \u001b[0;36m1200\u001b[0m\u001b[0;34m,\u001b[0m \u001b[0;34m'빵빠레'\u001b[0m\u001b[0;34m:\u001b[0m \u001b[0;36m1800\u001b[0m\u001b[0;34m,\u001b[0m \u001b[0;34m'월드콘'\u001b[0m\u001b[0;34m:\u001b[0m \u001b[0;36m1500\u001b[0m\u001b[0;34m,\u001b[0m \u001b[0;34m'메로나'\u001b[0m\u001b[0;34m:\u001b[0m \u001b[0;36m1000\u001b[0m\u001b[0;34m}\u001b[0m\u001b[0;34m\u001b[0m\u001b[0;34m\u001b[0m\u001b[0m\n\u001b[0;32m----> 2\u001b[0;31m \u001b[0mprint\u001b[0m\u001b[0;34m(\u001b[0m\u001b[0mlist\u001b[0m\u001b[0;34m(\u001b[0m\u001b[0micecream\u001b[0m\u001b[0;34m.\u001b[0m\u001b[0mkeys\u001b[0m\u001b[0;34m(\u001b[0m\u001b[0;34m)\u001b[0m\u001b[0;34m)\u001b[0m\u001b[0;34m)\u001b[0m\u001b[0;34m\u001b[0m\u001b[0;34m\u001b[0m\u001b[0m\n\u001b[0m",
            "\u001b[0;31mTypeError\u001b[0m: 'list' object is not callable"
          ]
        }
      ],
      "source": [
        "icecream = {'탱크보이': 1200, '폴라포': 1200, '빵빠레': 1800, '월드콘': 1500, '메로나': 1000}\n",
        "print(list(icecream.keys()))"
      ]
    },
    {
      "cell_type": "markdown",
      "id": "0715550e",
      "metadata": {
        "id": "0715550e"
      },
      "source": [
        "####  096 딕셔너리 values() 메서드\n",
        "다음의 딕셔너리에서 values 값으로만 구성된 리스트를 생성하라.\n",
        "\n",
        "icecream = {'탱크보이': 1200, '폴라포': 1200, '빵빠레': 1800, '월드콘': 1500, '메로나': 1000}\n"
      ]
    },
    {
      "cell_type": "code",
      "execution_count": 60,
      "id": "c498e5cb",
      "metadata": {
        "id": "c498e5cb",
        "colab": {
          "base_uri": "https://localhost:8080/",
          "height": 170
        },
        "outputId": "a5711db1-18d9-4882-e402-bc10f4c92d39"
      },
      "outputs": [
        {
          "output_type": "error",
          "ename": "TypeError",
          "evalue": "ignored",
          "traceback": [
            "\u001b[0;31m---------------------------------------------------------------------------\u001b[0m",
            "\u001b[0;31mTypeError\u001b[0m                                 Traceback (most recent call last)",
            "\u001b[0;32m<ipython-input-60-2b69135ff8b3>\u001b[0m in \u001b[0;36m<cell line: 1>\u001b[0;34m()\u001b[0m\n\u001b[0;32m----> 1\u001b[0;31m \u001b[0mprint\u001b[0m\u001b[0;34m(\u001b[0m\u001b[0mlist\u001b[0m\u001b[0;34m(\u001b[0m\u001b[0micecream\u001b[0m\u001b[0;34m.\u001b[0m\u001b[0mvalues\u001b[0m\u001b[0;34m(\u001b[0m\u001b[0;34m)\u001b[0m\u001b[0;34m)\u001b[0m\u001b[0;34m)\u001b[0m\u001b[0;34m\u001b[0m\u001b[0;34m\u001b[0m\u001b[0m\n\u001b[0m",
            "\u001b[0;31mTypeError\u001b[0m: 'list' object is not callable"
          ]
        }
      ],
      "source": [
        "print(list(icecream.values()))"
      ]
    },
    {
      "cell_type": "markdown",
      "id": "37c53d1f",
      "metadata": {
        "id": "37c53d1f"
      },
      "source": [
        "#### 097 딕셔너리 values() 메서드\n",
        "icecream 딕셔너리에서 아이스크림 판매 금액의 총합을 출력하라.\n",
        "\n",
        "icecream = {'탱크보이': 1200, '폴라포': 1200, '빵빠레': 1800, '월드콘': 1500, '메로나': 1000} <br/>\n",
        " <br/>\n",
        "출력 예시: <br/>\n",
        "6700\n",
        "\n"
      ]
    },
    {
      "cell_type": "code",
      "execution_count": 56,
      "id": "2294e2f4",
      "metadata": {
        "id": "2294e2f4",
        "colab": {
          "base_uri": "https://localhost:8080/"
        },
        "outputId": "b191445e-c322-491c-e106-01b3cc59e7be"
      },
      "outputs": [
        {
          "output_type": "execute_result",
          "data": {
            "text/plain": [
              "6700"
            ]
          },
          "metadata": {},
          "execution_count": 56
        }
      ],
      "source": [
        "icecream = {'탱크보이': 1200, '폴라포': 1200, '빵빠레': 1800, '월드콘': 1500, '메로나': 1000}\n",
        "\n",
        "sum(icecream.values())"
      ]
    },
    {
      "cell_type": "markdown",
      "id": "3cd87f56",
      "metadata": {
        "id": "3cd87f56"
      },
      "source": [
        "#### 098 딕셔너리 update 메서드\n",
        "아래의 new_product 딕셔너리를 다음 icecream 딕셔너리에 추가하라.\n",
        "\n",
        "icecream = {'탱크보이': 1200, '폴라포': 1200, '빵빠레': 1800, '월드콘': 1500, '메로나': 1000} <br/>\n",
        "new_product = {'팥빙수':2700, '아맛나':1000} <br/>\n",
        " <br/>\n",
        "실행 예시: <br/>\n",
        "print(icecream) <br/>\n",
        "{탱크보이': 1200,  '폴라포': 1200,  '빵빠레': 1800,  '월드콘': 1500,  '메로나': 1000,  '팥빙수':2700, '아맛나':1000}"
      ]
    },
    {
      "cell_type": "code",
      "execution_count": 57,
      "id": "be70f35c",
      "metadata": {
        "id": "be70f35c",
        "colab": {
          "base_uri": "https://localhost:8080/"
        },
        "outputId": "55ce4770-7f13-4d28-879e-f6540f0f99c2"
      },
      "outputs": [
        {
          "output_type": "stream",
          "name": "stdout",
          "text": [
            "{'탱크보이': 1200, '폴라포': 1200, '빵빠레': 1800, '월드콘': 1500, '메로나': 1000, '팥빙수': 2700, '아맛나': 1000}\n"
          ]
        }
      ],
      "source": [
        "icecream = {'탱크보이': 1200, '폴라포': 1200, '빵빠레': 1800, '월드콘': 1500, '메로나': 1000}\n",
        "new_product = {'팥빙수':2700, '아맛나':1000}\n",
        "\n",
        "icecream.update(new_product)\n",
        "\n",
        "print(icecream)"
      ]
    },
    {
      "cell_type": "markdown",
      "id": "94424d07",
      "metadata": {
        "id": "94424d07"
      },
      "source": [
        "#### 099 zip과 dict\n",
        "아래 두 개의 튜플을 하나의 딕셔너리로 변환하라. keys를 키로, vals를 값으로 result 이름의 딕셔너리로 저장한다. <br/>\n",
        " <br/>\n",
        "keys = (\"apple\", \"pear\", \"peach\") <br/>\n",
        "vals = (300, 250, 400) <br/>\n",
        " <br/>\n",
        "실행 예시: <br/>\n",
        "print(result) <br/>\n",
        " {'apple': 300, 'pear': 250, 'peach': 400}"
      ]
    },
    {
      "cell_type": "code",
      "execution_count": 58,
      "id": "dfa16573",
      "metadata": {
        "id": "dfa16573",
        "colab": {
          "base_uri": "https://localhost:8080/"
        },
        "outputId": "ea3760b5-55d1-4adb-bf6b-fd4a3d2f193d"
      },
      "outputs": [
        {
          "output_type": "stream",
          "name": "stdout",
          "text": [
            "{'apple': 300, 'pear': 250, 'peach': 400}\n"
          ]
        }
      ],
      "source": [
        "keys = (\"apple\", \"pear\", \"peach\")\n",
        "vals = (300, 250, 400)\n",
        "\n",
        "result = dict(zip(keys, vals))\n",
        "\n",
        "print(result)"
      ]
    },
    {
      "cell_type": "markdown",
      "id": "1d177391",
      "metadata": {
        "id": "1d177391"
      },
      "source": [
        "#### 100 zip과 dict\n",
        "date와 close_price 두 개의 리스트를 close_table 이름의 딕셔너리로 생성하라. <br/>\n",
        "\n",
        "date = ['09/05', '09/06', '09/07', '09/08', '09/09'] <br/>\n",
        "close_price = [10500, 10300, 10100, 10800, 11000] <br/>\n",
        " <br/>\n",
        "실행 예시: <br/>\n",
        " print(close_table) <br/>\n",
        " {'09/05': 10500, '09/06': 10300, '09/07': 10100, '09/08': 10800, '09/09': 11000}"
      ]
    },
    {
      "cell_type": "code",
      "execution_count": 59,
      "id": "1bd2a31c",
      "metadata": {
        "colab": {
          "base_uri": "https://localhost:8080/"
        },
        "id": "1bd2a31c",
        "outputId": "87647130-3d3f-491f-c7cd-5d001cf31511"
      },
      "outputs": [
        {
          "output_type": "stream",
          "name": "stdout",
          "text": [
            "{'09/05': 10500, '09/06': 10300, '09/07': 10100, '09/08': 10800, '09/09': 11000}\n"
          ]
        }
      ],
      "source": [
        "date = ['09/05', '09/06', '09/07', '09/08', '09/09']\n",
        "close_price = [10500, 10300, 10100, 10800, 11000]\n",
        "\n",
        "close_table = dict(zip(date, close_price))\n",
        "print(close_table)"
      ]
    }
  ],
  "metadata": {
    "kernelspec": {
      "display_name": "Python 3 (ipykernel)",
      "language": "python",
      "name": "python3"
    },
    "language_info": {
      "codemirror_mode": {
        "name": "ipython",
        "version": 3
      },
      "file_extension": ".py",
      "mimetype": "text/x-python",
      "name": "python",
      "nbconvert_exporter": "python",
      "pygments_lexer": "ipython3",
      "version": "3.10.9"
    },
    "colab": {
      "provenance": [],
      "include_colab_link": true
    }
  },
  "nbformat": 4,
  "nbformat_minor": 5
}